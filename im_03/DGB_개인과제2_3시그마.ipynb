{
 "cells": [
  {
   "cell_type": "markdown",
   "id": "8b3b8b47",
   "metadata": {},
   "source": [
    "# 패키지 불러오기"
   ]
  },
  {
   "cell_type": "code",
   "execution_count": 1,
   "id": "43907330",
   "metadata": {},
   "outputs": [],
   "source": [
    "import numpy as np\n",
    "from scipy import stats\n",
    "import pandas as pd\n",
    "import matplotlib.pyplot as plt\n",
    "import seaborn as sns\n",
    "\n",
    "import matplotlib\n",
    "matplotlib.rc('font', family = 'Malgun Gothic')\n",
    "matplotlib.rc('axes', unicode_minus = False)\n",
    "%matplotlib inline\n",
    "\n",
    "import warnings\n",
    "warnings.filterwarnings('ignore')"
   ]
  },
  {
   "cell_type": "markdown",
   "id": "5b7ca20e",
   "metadata": {},
   "source": [
    "# 데이터 불러오기"
   ]
  },
  {
   "cell_type": "code",
   "execution_count": 2,
   "id": "627c50ed",
   "metadata": {},
   "outputs": [
    {
     "data": {
      "text/html": [
       "<div>\n",
       "<style scoped>\n",
       "    .dataframe tbody tr th:only-of-type {\n",
       "        vertical-align: middle;\n",
       "    }\n",
       "\n",
       "    .dataframe tbody tr th {\n",
       "        vertical-align: top;\n",
       "    }\n",
       "\n",
       "    .dataframe thead th {\n",
       "        text-align: right;\n",
       "    }\n",
       "</style>\n",
       "<table border=\"1\" class=\"dataframe\">\n",
       "  <thead>\n",
       "    <tr style=\"text-align: right;\">\n",
       "      <th></th>\n",
       "      <th>Process_Type</th>\n",
       "      <th>Datetime</th>\n",
       "      <th>Code_Num</th>\n",
       "      <th>Z1_Temp</th>\n",
       "      <th>Z1_OP1</th>\n",
       "      <th>ST</th>\n",
       "      <th>Tube_Furnace1_OP</th>\n",
       "      <th>Tube_Furnace2_OP</th>\n",
       "      <th>Tube_Furnace3_OP</th>\n",
       "      <th>Tube_Furnace4_OP</th>\n",
       "      <th>Tube_Furnace_CP</th>\n",
       "      <th>Tube_Furnace1_Temp</th>\n",
       "      <th>Tube_Furnace2_Temp</th>\n",
       "      <th>Tube_Furnace3_Temp</th>\n",
       "      <th>Tube_Furnace4_Temp</th>\n",
       "    </tr>\n",
       "  </thead>\n",
       "  <tbody>\n",
       "    <tr>\n",
       "      <th>0</th>\n",
       "      <td>OP-A</td>\n",
       "      <td>2022-01-03 11:22</td>\n",
       "      <td>GroupA</td>\n",
       "      <td>NaN</td>\n",
       "      <td>75.6648</td>\n",
       "      <td>NaN</td>\n",
       "      <td>73.527404</td>\n",
       "      <td>59.989422</td>\n",
       "      <td>52.249481</td>\n",
       "      <td>72.134908</td>\n",
       "      <td>0.450497</td>\n",
       "      <td>NaN</td>\n",
       "      <td>868.759544</td>\n",
       "      <td>NaN</td>\n",
       "      <td>NaN</td>\n",
       "    </tr>\n",
       "    <tr>\n",
       "      <th>1</th>\n",
       "      <td>OP-A</td>\n",
       "      <td>2022-01-03 11:22</td>\n",
       "      <td>GroupA</td>\n",
       "      <td>NaN</td>\n",
       "      <td>75.6706</td>\n",
       "      <td>NaN</td>\n",
       "      <td>79.149174</td>\n",
       "      <td>62.027232</td>\n",
       "      <td>50.617109</td>\n",
       "      <td>71.245235</td>\n",
       "      <td>0.457370</td>\n",
       "      <td>878.116929</td>\n",
       "      <td>883.821264</td>\n",
       "      <td>890.740760</td>\n",
       "      <td>894.430606</td>\n",
       "    </tr>\n",
       "    <tr>\n",
       "      <th>2</th>\n",
       "      <td>OP-A</td>\n",
       "      <td>2022-01-03 11:22</td>\n",
       "      <td>GroupA</td>\n",
       "      <td>99.614201</td>\n",
       "      <td>75.6776</td>\n",
       "      <td>68.724636</td>\n",
       "      <td>78.946336</td>\n",
       "      <td>62.235532</td>\n",
       "      <td>52.218350</td>\n",
       "      <td>72.705558</td>\n",
       "      <td>0.454914</td>\n",
       "      <td>866.441979</td>\n",
       "      <td>882.850031</td>\n",
       "      <td>864.373065</td>\n",
       "      <td>893.530501</td>\n",
       "    </tr>\n",
       "    <tr>\n",
       "      <th>3</th>\n",
       "      <td>OP-A</td>\n",
       "      <td>2022-01-03 11:22</td>\n",
       "      <td>GroupA</td>\n",
       "      <td>99.376221</td>\n",
       "      <td>75.8656</td>\n",
       "      <td>69.161116</td>\n",
       "      <td>78.445719</td>\n",
       "      <td>61.608260</td>\n",
       "      <td>52.863552</td>\n",
       "      <td>73.975640</td>\n",
       "      <td>0.456540</td>\n",
       "      <td>876.350472</td>\n",
       "      <td>906.208463</td>\n",
       "      <td>891.107865</td>\n",
       "      <td>896.347636</td>\n",
       "    </tr>\n",
       "    <tr>\n",
       "      <th>4</th>\n",
       "      <td>OP-C</td>\n",
       "      <td>2022-01-03 11:22</td>\n",
       "      <td>GroupA</td>\n",
       "      <td>99.809053</td>\n",
       "      <td>73.6468</td>\n",
       "      <td>69.181098</td>\n",
       "      <td>76.673808</td>\n",
       "      <td>61.589311</td>\n",
       "      <td>52.297196</td>\n",
       "      <td>71.887865</td>\n",
       "      <td>0.460100</td>\n",
       "      <td>903.587678</td>\n",
       "      <td>867.215131</td>\n",
       "      <td>893.206883</td>\n",
       "      <td>871.594283</td>\n",
       "    </tr>\n",
       "    <tr>\n",
       "      <th>...</th>\n",
       "      <td>...</td>\n",
       "      <td>...</td>\n",
       "      <td>...</td>\n",
       "      <td>...</td>\n",
       "      <td>...</td>\n",
       "      <td>...</td>\n",
       "      <td>...</td>\n",
       "      <td>...</td>\n",
       "      <td>...</td>\n",
       "      <td>...</td>\n",
       "      <td>...</td>\n",
       "      <td>...</td>\n",
       "      <td>...</td>\n",
       "      <td>...</td>\n",
       "      <td>...</td>\n",
       "    </tr>\n",
       "    <tr>\n",
       "      <th>231118</th>\n",
       "      <td>OP-C</td>\n",
       "      <td>2022-01-15 19:49</td>\n",
       "      <td>GroupD</td>\n",
       "      <td>100.202264</td>\n",
       "      <td>73.5343</td>\n",
       "      <td>68.405244</td>\n",
       "      <td>84.369599</td>\n",
       "      <td>43.864803</td>\n",
       "      <td>52.731835</td>\n",
       "      <td>71.606995</td>\n",
       "      <td>0.453212</td>\n",
       "      <td>875.288592</td>\n",
       "      <td>895.764797</td>\n",
       "      <td>869.150410</td>\n",
       "      <td>892.129335</td>\n",
       "    </tr>\n",
       "    <tr>\n",
       "      <th>231119</th>\n",
       "      <td>OP-C</td>\n",
       "      <td>2022-01-15 19:49</td>\n",
       "      <td>GroupD</td>\n",
       "      <td>100.219542</td>\n",
       "      <td>73.5343</td>\n",
       "      <td>68.526229</td>\n",
       "      <td>85.214740</td>\n",
       "      <td>43.807730</td>\n",
       "      <td>52.788213</td>\n",
       "      <td>71.634139</td>\n",
       "      <td>0.451906</td>\n",
       "      <td>881.480945</td>\n",
       "      <td>888.820207</td>\n",
       "      <td>876.529220</td>\n",
       "      <td>884.019949</td>\n",
       "    </tr>\n",
       "    <tr>\n",
       "      <th>231120</th>\n",
       "      <td>OP-C</td>\n",
       "      <td>2022-01-15 19:49</td>\n",
       "      <td>GroupD</td>\n",
       "      <td>101.141937</td>\n",
       "      <td>73.4839</td>\n",
       "      <td>68.877919</td>\n",
       "      <td>86.438976</td>\n",
       "      <td>44.946023</td>\n",
       "      <td>53.315676</td>\n",
       "      <td>72.529658</td>\n",
       "      <td>0.455600</td>\n",
       "      <td>868.731699</td>\n",
       "      <td>863.224662</td>\n",
       "      <td>883.589334</td>\n",
       "      <td>899.204662</td>\n",
       "    </tr>\n",
       "    <tr>\n",
       "      <th>231121</th>\n",
       "      <td>OP-C</td>\n",
       "      <td>2022-01-15 19:49</td>\n",
       "      <td>GroupD</td>\n",
       "      <td>100.397590</td>\n",
       "      <td>73.4839</td>\n",
       "      <td>69.092723</td>\n",
       "      <td>86.214394</td>\n",
       "      <td>43.979252</td>\n",
       "      <td>53.533784</td>\n",
       "      <td>71.268777</td>\n",
       "      <td>0.452067</td>\n",
       "      <td>861.692367</td>\n",
       "      <td>905.774959</td>\n",
       "      <td>860.538841</td>\n",
       "      <td>902.815192</td>\n",
       "    </tr>\n",
       "    <tr>\n",
       "      <th>231122</th>\n",
       "      <td>OP-C</td>\n",
       "      <td>2022-01-15 19:49</td>\n",
       "      <td>GroupD</td>\n",
       "      <td>100.345350</td>\n",
       "      <td>71.2906</td>\n",
       "      <td>69.281101</td>\n",
       "      <td>86.316524</td>\n",
       "      <td>44.746046</td>\n",
       "      <td>53.684645</td>\n",
       "      <td>70.984986</td>\n",
       "      <td>0.453176</td>\n",
       "      <td>860.751600</td>\n",
       "      <td>903.189989</td>\n",
       "      <td>895.468679</td>\n",
       "      <td>888.849834</td>\n",
       "    </tr>\n",
       "  </tbody>\n",
       "</table>\n",
       "<p>231123 rows × 15 columns</p>\n",
       "</div>"
      ],
      "text/plain": [
       "       Process_Type          Datetime Code_Num     Z1_Temp   Z1_OP1  \\\n",
       "0              OP-A  2022-01-03 11:22   GroupA         NaN  75.6648   \n",
       "1              OP-A  2022-01-03 11:22   GroupA         NaN  75.6706   \n",
       "2              OP-A  2022-01-03 11:22   GroupA   99.614201  75.6776   \n",
       "3              OP-A  2022-01-03 11:22   GroupA   99.376221  75.8656   \n",
       "4              OP-C  2022-01-03 11:22   GroupA   99.809053  73.6468   \n",
       "...             ...               ...      ...         ...      ...   \n",
       "231118         OP-C  2022-01-15 19:49   GroupD  100.202264  73.5343   \n",
       "231119         OP-C  2022-01-15 19:49   GroupD  100.219542  73.5343   \n",
       "231120         OP-C  2022-01-15 19:49   GroupD  101.141937  73.4839   \n",
       "231121         OP-C  2022-01-15 19:49   GroupD  100.397590  73.4839   \n",
       "231122         OP-C  2022-01-15 19:49   GroupD  100.345350  71.2906   \n",
       "\n",
       "               ST  Tube_Furnace1_OP  Tube_Furnace2_OP  Tube_Furnace3_OP  \\\n",
       "0             NaN         73.527404         59.989422         52.249481   \n",
       "1             NaN         79.149174         62.027232         50.617109   \n",
       "2       68.724636         78.946336         62.235532         52.218350   \n",
       "3       69.161116         78.445719         61.608260         52.863552   \n",
       "4       69.181098         76.673808         61.589311         52.297196   \n",
       "...           ...               ...               ...               ...   \n",
       "231118  68.405244         84.369599         43.864803         52.731835   \n",
       "231119  68.526229         85.214740         43.807730         52.788213   \n",
       "231120  68.877919         86.438976         44.946023         53.315676   \n",
       "231121  69.092723         86.214394         43.979252         53.533784   \n",
       "231122  69.281101         86.316524         44.746046         53.684645   \n",
       "\n",
       "        Tube_Furnace4_OP  Tube_Furnace_CP  Tube_Furnace1_Temp  \\\n",
       "0              72.134908         0.450497                 NaN   \n",
       "1              71.245235         0.457370          878.116929   \n",
       "2              72.705558         0.454914          866.441979   \n",
       "3              73.975640         0.456540          876.350472   \n",
       "4              71.887865         0.460100          903.587678   \n",
       "...                  ...              ...                 ...   \n",
       "231118         71.606995         0.453212          875.288592   \n",
       "231119         71.634139         0.451906          881.480945   \n",
       "231120         72.529658         0.455600          868.731699   \n",
       "231121         71.268777         0.452067          861.692367   \n",
       "231122         70.984986         0.453176          860.751600   \n",
       "\n",
       "        Tube_Furnace2_Temp  Tube_Furnace3_Temp  Tube_Furnace4_Temp  \n",
       "0               868.759544                 NaN                 NaN  \n",
       "1               883.821264          890.740760          894.430606  \n",
       "2               882.850031          864.373065          893.530501  \n",
       "3               906.208463          891.107865          896.347636  \n",
       "4               867.215131          893.206883          871.594283  \n",
       "...                    ...                 ...                 ...  \n",
       "231118          895.764797          869.150410          892.129335  \n",
       "231119          888.820207          876.529220          884.019949  \n",
       "231120          863.224662          883.589334          899.204662  \n",
       "231121          905.774959          860.538841          902.815192  \n",
       "231122          903.189989          895.468679          888.849834  \n",
       "\n",
       "[231123 rows x 15 columns]"
      ]
     },
     "execution_count": 2,
     "metadata": {},
     "output_type": "execute_result"
    }
   ],
   "source": [
    "import pandas as pd\n",
    "df = pd.read_csv('machine.csv')\n",
    "df"
   ]
  },
  {
   "cell_type": "markdown",
   "id": "604c45ca",
   "metadata": {},
   "source": [
    "# 결측치 확인"
   ]
  },
  {
   "cell_type": "code",
   "execution_count": 3,
   "id": "a212a637",
   "metadata": {
    "scrolled": true
   },
   "outputs": [
    {
     "data": {
      "text/plain": [
       "Process_Type            0\n",
       "Datetime                0\n",
       "Code_Num                0\n",
       "Z1_Temp                25\n",
       "Z1_OP1                  0\n",
       "ST                     25\n",
       "Tube_Furnace1_OP      254\n",
       "Tube_Furnace2_OP        0\n",
       "Tube_Furnace3_OP        0\n",
       "Tube_Furnace4_OP        0\n",
       "Tube_Furnace_CP         0\n",
       "Tube_Furnace1_Temp      5\n",
       "Tube_Furnace2_Temp     10\n",
       "Tube_Furnace3_Temp      9\n",
       "Tube_Furnace4_Temp     15\n",
       "dtype: int64"
      ]
     },
     "execution_count": 3,
     "metadata": {},
     "output_type": "execute_result"
    }
   ],
   "source": [
    "df.isnull().sum()"
   ]
  },
  {
   "cell_type": "markdown",
   "id": "e6086cb2",
   "metadata": {},
   "source": [
    "# 결측치 제거"
   ]
  },
  {
   "cell_type": "code",
   "execution_count": 4,
   "id": "00543d84",
   "metadata": {
    "scrolled": true
   },
   "outputs": [],
   "source": [
    "df = df.dropna()\n",
    "df = df.reset_index(drop = True)"
   ]
  },
  {
   "cell_type": "markdown",
   "id": "823f4a15",
   "metadata": {},
   "source": [
    "# 종속변수 Y 만들기(3시그마)"
   ]
  },
  {
   "cell_type": "code",
   "execution_count": 5,
   "id": "bd743f7a",
   "metadata": {},
   "outputs": [],
   "source": [
    "df_nu = df[['Z1_Temp', 'Z1_OP1', 'ST',\n",
    "       'Tube_Furnace1_OP', 'Tube_Furnace2_OP', 'Tube_Furnace3_OP',\n",
    "       'Tube_Furnace4_OP', 'Tube_Furnace_CP', 'Tube_Furnace1_Temp',\n",
    "       'Tube_Furnace2_Temp', 'Tube_Furnace3_Temp', 'Tube_Furnace4_Temp']]\n",
    "df_ca = df[['Process_Type', 'Datetime', 'Code_Num']]\n",
    "\n",
    "columns = [col for col in df_nu.columns]\n",
    "for col in columns:\n",
    "    mean_1 = df_nu[col].mean()\n",
    "    std_1 = (df_nu[col].std()) * 3\n",
    "    df_nu[f'{col}_new'] = 0\n",
    "    df_nu.loc[(df_nu[col]  > mean_1 + std_1) | (df_nu[col]  < mean_1 - std_1),f'{col}_new' ] = 1\n",
    "\n",
    "df_nu['Y'] = df_nu['Z1_Temp_new'] + df_nu['Z1_OP1_new'] + df_nu['ST_new'] + df_nu['Tube_Furnace1_OP_new'] + df_nu['Tube_Furnace2_OP_new'] + \\\n",
    "             df_nu['Tube_Furnace3_OP_new'] + df_nu['Tube_Furnace4_OP_new'] + df_nu['Tube_Furnace_CP_new']  + df_nu['Tube_Furnace1_Temp_new'] +\\\n",
    "           df_nu['Tube_Furnace2_Temp_new']  + df_nu['Tube_Furnace3_Temp_new'] + df_nu['Tube_Furnace4_Temp_new']\n",
    "\n",
    "df_nu1 = df_nu[['Z1_Temp', 'Z1_OP1', 'ST', 'Tube_Furnace1_OP', 'Tube_Furnace2_OP',\n",
    "       'Tube_Furnace3_OP', 'Tube_Furnace4_OP', 'Tube_Furnace_CP',\n",
    "       'Tube_Furnace1_Temp', 'Tube_Furnace2_Temp', 'Tube_Furnace3_Temp',\n",
    "       'Tube_Furnace4_Temp','Y']]\n",
    "\n",
    "df = pd.concat([df_ca, df_nu1], axis = 1)"
   ]
  },
  {
   "cell_type": "markdown",
   "id": "c9d18a52",
   "metadata": {},
   "source": [
    "# 종속변수 0과 1로 (Y_new)"
   ]
  },
  {
   "cell_type": "code",
   "execution_count": 6,
   "id": "d2e77a8c",
   "metadata": {},
   "outputs": [
    {
     "data": {
      "text/plain": [
       "<AxesSubplot:xlabel='Y', ylabel='count'>"
      ]
     },
     "execution_count": 6,
     "metadata": {},
     "output_type": "execute_result"
    },
    {
     "data": {
      "image/png": "[encoded data removed]",
      "text/plain": [
       "<Figure size 720x432 with 1 Axes>"
      ]
     },
     "metadata": {
      "needs_background": "light"
     },
     "output_type": "display_data"
    }
   ],
   "source": [
    "df['Y'] = df['Y'].astype(str)\n",
    "df['Y'].value_counts()\n",
    "\n",
    "plt.figure(figsize=(10, 6))\n",
    "sns.countplot(x='Y', data=df)"
   ]
  },
  {
   "cell_type": "markdown",
   "id": "5e7710cf",
   "metadata": {},
   "source": [
    "0의 비율이 1,2,3의 비율보다 눈에 띄게 높아서 1,2,3을 1이라는 값으로 통합하여 변환하였다."
   ]
  },
  {
   "cell_type": "code",
   "execution_count": 7,
   "id": "e5a47650",
   "metadata": {},
   "outputs": [
    {
     "data": {
      "text/plain": [
       "<AxesSubplot:xlabel='Y_new', ylabel='count'>"
      ]
     },
     "execution_count": 7,
     "metadata": {},
     "output_type": "execute_result"
    },
    {
     "data": {
      "image/png": "[encoded data removed]",
      "text/plain": [
       "<Figure size 720x432 with 1 Axes>"
      ]
     },
     "metadata": {
      "needs_background": "light"
     },
     "output_type": "display_data"
    }
   ],
   "source": [
    "def func(row):\n",
    "    if row != '0':\n",
    "        return 1\n",
    "    else:\n",
    "        return 0\n",
    "    \n",
    "df['Y_new'] = df['Y'].apply(func)\n",
    "\n",
    "plt.figure(figsize=(10, 6))\n",
    "sns.countplot(x='Y_new', data=df)"
   ]
  },
  {
   "cell_type": "markdown",
   "id": "541d0124",
   "metadata": {},
   "source": [
    "# 근무자 파생변수 생성"
   ]
  },
  {
   "cell_type": "markdown",
   "id": "5f7ea049",
   "metadata": {},
   "source": [
    "- 6 ~ 14 : day 근무자\n",
    "- 14 ~ 22 : Evening 근무자\n",
    "- 22 ~ 6 : Night 근무자"
   ]
  },
  {
   "cell_type": "code",
   "execution_count": 8,
   "id": "dc260400",
   "metadata": {
    "scrolled": true
   },
   "outputs": [
    {
     "data": {
      "text/plain": [
       "Evening    104662\n",
       "Night       76344\n",
       "day         49833\n",
       "Name: 근무조, dtype: int64"
      ]
     },
     "execution_count": 8,
     "metadata": {},
     "output_type": "execute_result"
    }
   ],
   "source": [
    "df['datetime_1'] = pd.to_datetime(df['Datetime'])\n",
    "df['datetime_ho'] = df['datetime_1'].dt.hour\n",
    "\n",
    "def date_time(row):\n",
    "    if 6 <= row < 14:\n",
    "        return 'day'\n",
    "    elif 14 <= row < 22:\n",
    "        return 'Evening'\n",
    "    else : \n",
    "        return 'Night'\n",
    "    \n",
    "df['근무조'] = df['datetime_ho'].apply(date_time)\n",
    "df['근무조'].value_counts()"
   ]
  },
  {
   "cell_type": "markdown",
   "id": "d9d1822d",
   "metadata": {},
   "source": [
    "# 카이제곱검정(근무조, Y)"
   ]
  },
  {
   "cell_type": "markdown",
   "id": "7defb430",
   "metadata": {},
   "source": [
    "- 귀무가설 : 근무조와 이상치간에 차이가 없다\n",
    "- 대립가설 : 근무조와 이상치간에 차이가 있다.\n",
    "    \n",
    "- 결론 : 유의수준 5% 하에서 유의확률이 0이기 때문에 귀무가설을 기각하고, 대립가설을 채택한다.\n",
    "- 즉, 근무조와 이상치간에 차이가 있다고 할 수 있다."
   ]
  },
  {
   "cell_type": "code",
   "execution_count": 9,
   "id": "69d2a8b7",
   "metadata": {},
   "outputs": [
    {
     "name": "stdout",
     "output_type": "stream",
     "text": [
      "chi-square test\n",
      "chisq : 13466.641\n",
      "p : 0.0000000\n",
      "degree of freedom : 2\n",
      "expected value : \n",
      "[[92417.527 67412.467 44003.006]\n",
      " [12244.473  8931.533  5829.994]]\n"
     ]
    }
   ],
   "source": [
    "df1 =pd.crosstab(df['Y_new'], df['근무조'])\n",
    "chi, pval, dof, expected = stats.chi2_contingency(df1)\n",
    "\n",
    "print('chi-square test')\n",
    "print('chisq : {0:0.3f}'.format(chi))\n",
    "print('p : {0:0.7f}'.format(pval))\n",
    "print('degree of freedom : {}'.format(dof))\n",
    "print('expected value : \\n{}'.format(expected.round(3)))"
   ]
  },
  {
   "cell_type": "markdown",
   "id": "9bdd7daf",
   "metadata": {},
   "source": [
    "# 근무자와 Y 100% 누적막대그래프"
   ]
  },
  {
   "cell_type": "markdown",
   "id": "a169c7a7",
   "metadata": {},
   "source": [
    "- 이상신호에서는 Night 시간대에 확 많아지는 것을 확인 할 수 있다.\n",
    "- 이상신호에서는 day 시간대에 많아지는 것을 확인 할 수 있다.\n",
    "- 이상신호에서는 evening 시간대에 적어지는 것을 확인 할 수 있다."
   ]
  },
  {
   "cell_type": "code",
   "execution_count": 10,
   "id": "99b9b8f3",
   "metadata": {
    "scrolled": true
   },
   "outputs": [
    {
     "data": {
      "image/png": "[encoded data removed]",
      "text/plain": [
       "<Figure size 432x288 with 1 Axes>"
      ]
     },
     "metadata": {
      "needs_background": "light"
     },
     "output_type": "display_data"
    },
    {
     "data": {
      "text/plain": [
       "<Figure size 720x720 with 0 Axes>"
      ]
     },
     "metadata": {},
     "output_type": "display_data"
    }
   ],
   "source": [
    "df1['Total'] = df1.sum(axis=1)\n",
    "# Normalize each group to sum up to 100%\n",
    "for col in ['Evening', 'Night', 'day']:\n",
    "    df1[col] = df1[col] / df1['Total'] * 100\n",
    "\n",
    "df_group_100 = df1.drop('Total', axis=1)\n",
    "df_group_100.plot(kind='bar', stacked=True)\n",
    "\n",
    "# Add labels and title\n",
    "plt.xlabel('Y')\n",
    "plt.ylabel('Percentage (%)')\n",
    "plt.title('100% Stacked Bar Chart')\n",
    "plt.legend()\n",
    "\n",
    "# Show the plot\n",
    "plt.show()"
   ]
  },
  {
   "cell_type": "markdown",
   "id": "03eb6151",
   "metadata": {},
   "source": [
    "# 카이제곱검정(공정배치그룹, Y)"
   ]
  },
  {
   "cell_type": "markdown",
   "id": "4a0ec49d",
   "metadata": {},
   "source": [
    "- 귀무가설 : 공정배치 그룹과 이상치간에 차이가 없다\n",
    "- 대립가설 : 공정배치 그룹과 이상치간에 차이가 있다.\n",
    "    \n",
    "- 결론 : 유의수준 5% 하에서 유의확률이 0이기 때문에 귀무가설을 기각하고, 대립가설을 채택한다.\n",
    "- 즉, 공정배치 그룹과 이상치간에 차이가 있다고 할 수 있다."
   ]
  },
  {
   "cell_type": "code",
   "execution_count": 11,
   "id": "b8e873b0",
   "metadata": {
    "scrolled": true
   },
   "outputs": [
    {
     "name": "stdout",
     "output_type": "stream",
     "text": [
      "chi-square test\n",
      "chisq: 14856.759\n",
      "p: 0.000\n",
      "degree pf freedom:6\n",
      "expected value: \n",
      "[[47835.267 42794.166 27579.032 46350.045  5488.786 22697.756 11087.949]\n",
      " [ 6337.733  5669.834  3653.968  6140.955   727.214  3007.244  1469.051]]\n"
     ]
    }
   ],
   "source": [
    "df_2 = pd.crosstab(df['Code_Num'], df['Y_new']).T\n",
    "\n",
    "chi, pval, dof, expected = stats.chi2_contingency(df_2)\n",
    "print(\"chi-square test\")\n",
    "print(\"chisq: {0:0.3f}\".format(chi))\n",
    "print(\"p: {0:0.3f}\".format(pval))\n",
    "print(\"degree pf freedom:{}\".format(dof))\n",
    "print(\"expected value: \\n{}\".format(expected.round(3)))"
   ]
  },
  {
   "cell_type": "markdown",
   "id": "66aa30b7",
   "metadata": {},
   "source": [
    "# 근무자와 Y 100% 누적막대그래프"
   ]
  },
  {
   "cell_type": "markdown",
   "id": "b129b054",
   "metadata": {},
   "source": [
    "- 이상신호에서는 GROUP-G에서 가장 많아지는 것을 확인 할 수 있다.\n",
    "- 이상신호에서는 GROUP-D에서 가장 적어지는 것을 확인 할 수 있다."
   ]
  },
  {
   "cell_type": "code",
   "execution_count": 12,
   "id": "367daec6",
   "metadata": {},
   "outputs": [
    {
     "data": {
      "image/png": "[encoded data removed]",
      "text/plain": [
       "<Figure size 432x288 with 1 Axes>"
      ]
     },
     "metadata": {
      "needs_background": "light"
     },
     "output_type": "display_data"
    },
    {
     "data": {
      "text/plain": [
       "<Figure size 720x720 with 0 Axes>"
      ]
     },
     "metadata": {},
     "output_type": "display_data"
    }
   ],
   "source": [
    "df_2['Total'] = df_2.sum(axis=1)\n",
    "# Normalize each group to sum up to 100%\n",
    "for col in ['GroupA','GroupB','GroupC','GroupD','GroupE','GroupF','GroupG']:\n",
    "    df_2[col] = df_2[col] / df_2['Total'] * 100\n",
    "df_group_100 = df_2.drop('Total', axis=1)\n",
    "df_group_100.plot(kind='bar', stacked=True)\n",
    "\n",
    "\n",
    "# Add labels and title\n",
    "plt.xlabel('Labels')\n",
    "plt.ylabel('Percentage (%)')\n",
    "plt.title('100% Stacked Bar Chart')\n",
    "plt.legend()\n",
    "\n",
    "# Show the plot\n",
    "plt.show()"
   ]
  }
 ],
 "metadata": {
  "kernelspec": {
   "display_name": "Python 3 (ipykernel)",
   "language": "python",
   "name": "python3"
  },
  "language_info": {
   "codemirror_mode": {
    "name": "ipython",
    "version": 3
   },
   "file_extension": ".py",
   "mimetype": "text/x-python",
   "name": "python",
   "nbconvert_exporter": "python",
   "pygments_lexer": "ipython3",
   "version": "3.11.7"
  }
 },
 "nbformat": 4,
 "nbformat_minor": 5
}
