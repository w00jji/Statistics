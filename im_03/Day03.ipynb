{
 "cells": [
  {
   "cell_type": "markdown",
   "id": "58306c23-2aa9-4468-88a5-1936a843f1e5",
   "metadata": {},
   "source": [
    "## 통계"
   ]
  },
  {
   "cell_type": "code",
   "execution_count": 2,
   "id": "5f4e3032-9c25-4d8e-890d-0aaf7304d24f",
   "metadata": {},
   "outputs": [],
   "source": [
    "import numpy as np\n",
    "from scipy import stats\n",
    "import pandas as pd\n",
    "import matplotlib.pyplot as plt\n",
    "import seaborn as sns\n",
    "from statsmodels.stats.proportion import proportions_ztest"
   ]
  },
  {
   "cell_type": "code",
   "execution_count": 5,
   "id": "60276587-07f4-42c2-a3cf-addc85231439",
   "metadata": {},
   "outputs": [],
   "source": [
    "# 환경 설정\n",
    "\n",
    "import matplotlib\n",
    "# 한글 설치(윈도우 버전)\n",
    "matplotlib.rc('font',family='Malgun Gothic')\n",
    "# 음수 표시\n",
    "matplotlib.rc('axes',unicode_minus=False)\n",
    "# 그래프 출력\n",
    "%matplotlib inline\n",
    "\n",
    "# 실행결과 경고메시지 출력 제외\n",
    "import warnings\n",
    "warnings.filterwarnings('ignore')"
   ]
  },
  {
   "cell_type": "code",
   "execution_count": 7,
   "id": "03a5d6bc-b5a2-4d17-912d-507194265482",
   "metadata": {},
   "outputs": [
    {
     "data": {
      "text/html": [
       "<div>\n",
       "<style scoped>\n",
       "    .dataframe tbody tr th:only-of-type {\n",
       "        vertical-align: middle;\n",
       "    }\n",
       "\n",
       "    .dataframe tbody tr th {\n",
       "        vertical-align: top;\n",
       "    }\n",
       "\n",
       "    .dataframe thead th {\n",
       "        text-align: right;\n",
       "    }\n",
       "</style>\n",
       "<table border=\"1\" class=\"dataframe\">\n",
       "  <thead>\n",
       "    <tr style=\"text-align: right;\">\n",
       "      <th></th>\n",
       "      <th>manufacturer</th>\n",
       "      <th>model</th>\n",
       "      <th>displacement</th>\n",
       "      <th>year</th>\n",
       "      <th>cylinder</th>\n",
       "      <th>automatic</th>\n",
       "      <th>driving</th>\n",
       "      <th>mpg</th>\n",
       "      <th>highway_mileage</th>\n",
       "      <th>fuel</th>\n",
       "      <th>class</th>\n",
       "    </tr>\n",
       "  </thead>\n",
       "  <tbody>\n",
       "    <tr>\n",
       "      <th>0</th>\n",
       "      <td>audi</td>\n",
       "      <td>a4</td>\n",
       "      <td>1.8</td>\n",
       "      <td>1999</td>\n",
       "      <td>4</td>\n",
       "      <td>auto</td>\n",
       "      <td>f</td>\n",
       "      <td>18</td>\n",
       "      <td>29</td>\n",
       "      <td>p</td>\n",
       "      <td>compact</td>\n",
       "    </tr>\n",
       "    <tr>\n",
       "      <th>1</th>\n",
       "      <td>audi</td>\n",
       "      <td>a4</td>\n",
       "      <td>1.8</td>\n",
       "      <td>1999</td>\n",
       "      <td>4</td>\n",
       "      <td>manual</td>\n",
       "      <td>f</td>\n",
       "      <td>21</td>\n",
       "      <td>29</td>\n",
       "      <td>p</td>\n",
       "      <td>compact</td>\n",
       "    </tr>\n",
       "    <tr>\n",
       "      <th>2</th>\n",
       "      <td>audi</td>\n",
       "      <td>a4</td>\n",
       "      <td>2.0</td>\n",
       "      <td>2008</td>\n",
       "      <td>4</td>\n",
       "      <td>manual</td>\n",
       "      <td>f</td>\n",
       "      <td>20</td>\n",
       "      <td>31</td>\n",
       "      <td>p</td>\n",
       "      <td>compact</td>\n",
       "    </tr>\n",
       "    <tr>\n",
       "      <th>3</th>\n",
       "      <td>audi</td>\n",
       "      <td>a4</td>\n",
       "      <td>2.0</td>\n",
       "      <td>2008</td>\n",
       "      <td>4</td>\n",
       "      <td>auto</td>\n",
       "      <td>f</td>\n",
       "      <td>21</td>\n",
       "      <td>30</td>\n",
       "      <td>p</td>\n",
       "      <td>compact</td>\n",
       "    </tr>\n",
       "    <tr>\n",
       "      <th>4</th>\n",
       "      <td>audi</td>\n",
       "      <td>a4</td>\n",
       "      <td>2.8</td>\n",
       "      <td>1999</td>\n",
       "      <td>6</td>\n",
       "      <td>auto</td>\n",
       "      <td>f</td>\n",
       "      <td>16</td>\n",
       "      <td>26</td>\n",
       "      <td>p</td>\n",
       "      <td>compact</td>\n",
       "    </tr>\n",
       "  </tbody>\n",
       "</table>\n",
       "</div>"
      ],
      "text/plain": [
       "  manufacturer model  displacement  year  cylinder automatic driving  mpg  \\\n",
       "0         audi    a4           1.8  1999         4      auto       f   18   \n",
       "1         audi    a4           1.8  1999         4    manual       f   21   \n",
       "2         audi    a4           2.0  2008         4    manual       f   20   \n",
       "3         audi    a4           2.0  2008         4      auto       f   21   \n",
       "4         audi    a4           2.8  1999         6      auto       f   16   \n",
       "\n",
       "   highway_mileage fuel    class  \n",
       "0               29    p  compact  \n",
       "1               29    p  compact  \n",
       "2               31    p  compact  \n",
       "3               30    p  compact  \n",
       "4               26    p  compact  "
      ]
     },
     "execution_count": 7,
     "metadata": {},
     "output_type": "execute_result"
    }
   ],
   "source": [
    "# 자동차 기술통계치 구학\n",
    "\n",
    "mycars=pd.read_csv('data/mycars.csv')\n",
    "mycars.head()"
   ]
  },
  {
   "cell_type": "code",
   "execution_count": 19,
   "id": "932ea9cf-7f4a-432d-958e-1f3a9dcec9af",
   "metadata": {},
   "outputs": [
    {
     "data": {
      "text/plain": [
       "Index(['manufacturer', 'model', 'displacement', 'year', 'cylinder',\n",
       "       'automatic', 'driving', 'mpg', 'highway_mileage', 'fuel', 'class'],\n",
       "      dtype='object')"
      ]
     },
     "execution_count": 19,
     "metadata": {},
     "output_type": "execute_result"
    }
   ],
   "source": [
    "mycars.columns"
   ]
  },
  {
   "cell_type": "markdown",
   "id": "935e290f-f6bc-416e-a60e-89e57c457687",
   "metadata": {},
   "source": [
    "- 컬럼 뜻\n",
    "- 'manufacturer' : 제조업체,\n",
    "- 'model',\n",
    "- 'displacement' : 배수량\n",
    "- 'year',\n",
    "- 'cylinder',\r",
    "-  'automatic'\n",
    "-  'driving'\n",
    "-  'mpg',: 연비\n",
    "-  'highway_mileage' : 고속도로_마일리지\n",
    "-  'fuel : \n",
    "연료\n",
    "-  'clas],\r\n",
    "      dtype='object'"
   ]
  },
  {
   "cell_type": "code",
   "execution_count": 9,
   "id": "592865a7-d883-49bc-b262-d74a428d3c8c",
   "metadata": {},
   "outputs": [
    {
     "data": {
      "text/html": [
       "<div>\n",
       "<style scoped>\n",
       "    .dataframe tbody tr th:only-of-type {\n",
       "        vertical-align: middle;\n",
       "    }\n",
       "\n",
       "    .dataframe tbody tr th {\n",
       "        vertical-align: top;\n",
       "    }\n",
       "\n",
       "    .dataframe thead th {\n",
       "        text-align: right;\n",
       "    }\n",
       "</style>\n",
       "<table border=\"1\" class=\"dataframe\">\n",
       "  <thead>\n",
       "    <tr style=\"text-align: right;\">\n",
       "      <th></th>\n",
       "      <th>displacement</th>\n",
       "      <th>year</th>\n",
       "      <th>cylinder</th>\n",
       "      <th>mpg</th>\n",
       "      <th>highway_mileage</th>\n",
       "    </tr>\n",
       "  </thead>\n",
       "  <tbody>\n",
       "    <tr>\n",
       "      <th>count</th>\n",
       "      <td>234.000</td>\n",
       "      <td>234.00</td>\n",
       "      <td>234.000</td>\n",
       "      <td>234.000</td>\n",
       "      <td>234.000</td>\n",
       "    </tr>\n",
       "    <tr>\n",
       "      <th>mean</th>\n",
       "      <td>3.472</td>\n",
       "      <td>2003.50</td>\n",
       "      <td>5.889</td>\n",
       "      <td>16.859</td>\n",
       "      <td>23.440</td>\n",
       "    </tr>\n",
       "    <tr>\n",
       "      <th>std</th>\n",
       "      <td>1.292</td>\n",
       "      <td>4.51</td>\n",
       "      <td>1.612</td>\n",
       "      <td>4.256</td>\n",
       "      <td>5.955</td>\n",
       "    </tr>\n",
       "    <tr>\n",
       "      <th>min</th>\n",
       "      <td>1.600</td>\n",
       "      <td>1999.00</td>\n",
       "      <td>4.000</td>\n",
       "      <td>9.000</td>\n",
       "      <td>12.000</td>\n",
       "    </tr>\n",
       "    <tr>\n",
       "      <th>25%</th>\n",
       "      <td>2.400</td>\n",
       "      <td>1999.00</td>\n",
       "      <td>4.000</td>\n",
       "      <td>14.000</td>\n",
       "      <td>18.000</td>\n",
       "    </tr>\n",
       "    <tr>\n",
       "      <th>50%</th>\n",
       "      <td>3.300</td>\n",
       "      <td>2003.50</td>\n",
       "      <td>6.000</td>\n",
       "      <td>17.000</td>\n",
       "      <td>24.000</td>\n",
       "    </tr>\n",
       "    <tr>\n",
       "      <th>75%</th>\n",
       "      <td>4.600</td>\n",
       "      <td>2008.00</td>\n",
       "      <td>8.000</td>\n",
       "      <td>19.000</td>\n",
       "      <td>27.000</td>\n",
       "    </tr>\n",
       "    <tr>\n",
       "      <th>max</th>\n",
       "      <td>7.000</td>\n",
       "      <td>2008.00</td>\n",
       "      <td>8.000</td>\n",
       "      <td>35.000</td>\n",
       "      <td>44.000</td>\n",
       "    </tr>\n",
       "  </tbody>\n",
       "</table>\n",
       "</div>"
      ],
      "text/plain": [
       "       displacement     year  cylinder      mpg  highway_mileage\n",
       "count       234.000   234.00   234.000  234.000          234.000\n",
       "mean          3.472  2003.50     5.889   16.859           23.440\n",
       "std           1.292     4.51     1.612    4.256            5.955\n",
       "min           1.600  1999.00     4.000    9.000           12.000\n",
       "25%           2.400  1999.00     4.000   14.000           18.000\n",
       "50%           3.300  2003.50     6.000   17.000           24.000\n",
       "75%           4.600  2008.00     8.000   19.000           27.000\n",
       "max           7.000  2008.00     8.000   35.000           44.000"
      ]
     },
     "execution_count": 9,
     "metadata": {},
     "output_type": "execute_result"
    }
   ],
   "source": [
    "mycars.describe().round(3)"
   ]
  },
  {
   "cell_type": "markdown",
   "id": "ffc3ee07-c45a-4338-8093-7de7bcc85f22",
   "metadata": {},
   "source": [
    "- 중위수 배수량 2.4 , 연식 2003년식 ,실린더 4 , 고속도로 마일리지 18\n",
    "- 평균 배수량 3.5 연식 2003년식 , 실린더 16.8 고속도로 마일리지 23\n",
    "\n",
    "평균이 중위수보다 크기 때문에 오른쪽으로 긴 꼬리 모양의 정규 분포를 가지고 있음\n",
    "- 고속도로 마일리지\n",
    " - 상한 : 18 - 1.5*(27-18)\n",
    " - 하한 : 27 + 1.5*(27-18)"
   ]
  },
  {
   "cell_type": "code",
   "execution_count": 37,
   "id": "eb641f39-64dc-4a8a-a6e3-4f04afccc9b9",
   "metadata": {},
   "outputs": [
    {
     "data": {
      "text/html": [
       "<div>\n",
       "<style scoped>\n",
       "    .dataframe tbody tr th:only-of-type {\n",
       "        vertical-align: middle;\n",
       "    }\n",
       "\n",
       "    .dataframe tbody tr th {\n",
       "        vertical-align: top;\n",
       "    }\n",
       "\n",
       "    .dataframe thead th {\n",
       "        text-align: right;\n",
       "    }\n",
       "</style>\n",
       "<table border=\"1\" class=\"dataframe\">\n",
       "  <thead>\n",
       "    <tr style=\"text-align: right;\">\n",
       "      <th></th>\n",
       "      <th>model</th>\n",
       "      <th>4runner 4wd</th>\n",
       "      <th>a4</th>\n",
       "      <th>a4 quattro</th>\n",
       "      <th>a6 quattro</th>\n",
       "      <th>altima</th>\n",
       "      <th>c1500 suburban 2wd</th>\n",
       "      <th>camry</th>\n",
       "      <th>camry solara</th>\n",
       "      <th>caravan 2wd</th>\n",
       "      <th>civic</th>\n",
       "      <th>...</th>\n",
       "      <th>mustang</th>\n",
       "      <th>navigator 2wd</th>\n",
       "      <th>new beetle</th>\n",
       "      <th>passat</th>\n",
       "      <th>pathfinder 4wd</th>\n",
       "      <th>ram 1500 pickup 4wd</th>\n",
       "      <th>range rover</th>\n",
       "      <th>sonata</th>\n",
       "      <th>tiburon</th>\n",
       "      <th>toyota tacoma 4wd</th>\n",
       "    </tr>\n",
       "  </thead>\n",
       "  <tbody>\n",
       "    <tr>\n",
       "      <th rowspan=\"8\" valign=\"top\">mpg</th>\n",
       "      <th>count</th>\n",
       "      <td>6.000000</td>\n",
       "      <td>7.000000</td>\n",
       "      <td>8.000000</td>\n",
       "      <td>3.0</td>\n",
       "      <td>6.000000</td>\n",
       "      <td>5.00000</td>\n",
       "      <td>7.000000</td>\n",
       "      <td>7.000000</td>\n",
       "      <td>11.000000</td>\n",
       "      <td>9.000000</td>\n",
       "      <td>...</td>\n",
       "      <td>9.000000</td>\n",
       "      <td>3.000000</td>\n",
       "      <td>6.000000</td>\n",
       "      <td>7.000000</td>\n",
       "      <td>4.000000</td>\n",
       "      <td>10.000000</td>\n",
       "      <td>4.00000</td>\n",
       "      <td>7.000000</td>\n",
       "      <td>7.000000</td>\n",
       "      <td>7.000000</td>\n",
       "    </tr>\n",
       "    <tr>\n",
       "      <th>mean</th>\n",
       "      <td>15.166667</td>\n",
       "      <td>18.857143</td>\n",
       "      <td>17.125000</td>\n",
       "      <td>16.0</td>\n",
       "      <td>20.666667</td>\n",
       "      <td>12.80000</td>\n",
       "      <td>19.857143</td>\n",
       "      <td>19.857143</td>\n",
       "      <td>15.818182</td>\n",
       "      <td>24.444444</td>\n",
       "      <td>...</td>\n",
       "      <td>15.888889</td>\n",
       "      <td>11.333333</td>\n",
       "      <td>24.000000</td>\n",
       "      <td>18.571429</td>\n",
       "      <td>13.750000</td>\n",
       "      <td>11.400000</td>\n",
       "      <td>11.50000</td>\n",
       "      <td>19.000000</td>\n",
       "      <td>18.285714</td>\n",
       "      <td>15.571429</td>\n",
       "    </tr>\n",
       "    <tr>\n",
       "      <th>std</th>\n",
       "      <td>0.752773</td>\n",
       "      <td>1.864454</td>\n",
       "      <td>1.807722</td>\n",
       "      <td>1.0</td>\n",
       "      <td>1.966384</td>\n",
       "      <td>1.30384</td>\n",
       "      <td>1.463850</td>\n",
       "      <td>1.772811</td>\n",
       "      <td>1.834022</td>\n",
       "      <td>1.943651</td>\n",
       "      <td>...</td>\n",
       "      <td>1.452966</td>\n",
       "      <td>0.577350</td>\n",
       "      <td>6.511528</td>\n",
       "      <td>1.902379</td>\n",
       "      <td>1.258306</td>\n",
       "      <td>1.505545</td>\n",
       "      <td>0.57735</td>\n",
       "      <td>1.414214</td>\n",
       "      <td>1.603567</td>\n",
       "      <td>0.786796</td>\n",
       "    </tr>\n",
       "    <tr>\n",
       "      <th>min</th>\n",
       "      <td>14.000000</td>\n",
       "      <td>16.000000</td>\n",
       "      <td>15.000000</td>\n",
       "      <td>15.0</td>\n",
       "      <td>19.000000</td>\n",
       "      <td>11.00000</td>\n",
       "      <td>18.000000</td>\n",
       "      <td>18.000000</td>\n",
       "      <td>11.000000</td>\n",
       "      <td>21.000000</td>\n",
       "      <td>...</td>\n",
       "      <td>14.000000</td>\n",
       "      <td>11.000000</td>\n",
       "      <td>19.000000</td>\n",
       "      <td>16.000000</td>\n",
       "      <td>12.000000</td>\n",
       "      <td>9.000000</td>\n",
       "      <td>11.00000</td>\n",
       "      <td>18.000000</td>\n",
       "      <td>16.000000</td>\n",
       "      <td>15.000000</td>\n",
       "    </tr>\n",
       "    <tr>\n",
       "      <th>25%</th>\n",
       "      <td>15.000000</td>\n",
       "      <td>18.000000</td>\n",
       "      <td>15.750000</td>\n",
       "      <td>15.5</td>\n",
       "      <td>19.000000</td>\n",
       "      <td>12.00000</td>\n",
       "      <td>18.500000</td>\n",
       "      <td>18.000000</td>\n",
       "      <td>15.500000</td>\n",
       "      <td>24.000000</td>\n",
       "      <td>...</td>\n",
       "      <td>15.000000</td>\n",
       "      <td>11.000000</td>\n",
       "      <td>20.000000</td>\n",
       "      <td>17.500000</td>\n",
       "      <td>13.500000</td>\n",
       "      <td>11.000000</td>\n",
       "      <td>11.00000</td>\n",
       "      <td>18.000000</td>\n",
       "      <td>17.000000</td>\n",
       "      <td>15.000000</td>\n",
       "    </tr>\n",
       "    <tr>\n",
       "      <th>50%</th>\n",
       "      <td>15.000000</td>\n",
       "      <td>18.000000</td>\n",
       "      <td>17.000000</td>\n",
       "      <td>16.0</td>\n",
       "      <td>20.000000</td>\n",
       "      <td>13.00000</td>\n",
       "      <td>21.000000</td>\n",
       "      <td>21.000000</td>\n",
       "      <td>16.000000</td>\n",
       "      <td>24.000000</td>\n",
       "      <td>...</td>\n",
       "      <td>15.000000</td>\n",
       "      <td>11.000000</td>\n",
       "      <td>20.500000</td>\n",
       "      <td>18.000000</td>\n",
       "      <td>14.000000</td>\n",
       "      <td>11.500000</td>\n",
       "      <td>11.50000</td>\n",
       "      <td>18.000000</td>\n",
       "      <td>19.000000</td>\n",
       "      <td>15.000000</td>\n",
       "    </tr>\n",
       "    <tr>\n",
       "      <th>75%</th>\n",
       "      <td>15.750000</td>\n",
       "      <td>20.500000</td>\n",
       "      <td>18.250000</td>\n",
       "      <td>16.5</td>\n",
       "      <td>22.500000</td>\n",
       "      <td>14.00000</td>\n",
       "      <td>21.000000</td>\n",
       "      <td>21.000000</td>\n",
       "      <td>17.000000</td>\n",
       "      <td>25.000000</td>\n",
       "      <td>...</td>\n",
       "      <td>17.000000</td>\n",
       "      <td>11.500000</td>\n",
       "      <td>27.000000</td>\n",
       "      <td>20.000000</td>\n",
       "      <td>14.250000</td>\n",
       "      <td>12.750000</td>\n",
       "      <td>12.00000</td>\n",
       "      <td>20.000000</td>\n",
       "      <td>19.500000</td>\n",
       "      <td>16.000000</td>\n",
       "    </tr>\n",
       "    <tr>\n",
       "      <th>max</th>\n",
       "      <td>16.000000</td>\n",
       "      <td>21.000000</td>\n",
       "      <td>20.000000</td>\n",
       "      <td>17.0</td>\n",
       "      <td>23.000000</td>\n",
       "      <td>14.00000</td>\n",
       "      <td>21.000000</td>\n",
       "      <td>22.000000</td>\n",
       "      <td>18.000000</td>\n",
       "      <td>28.000000</td>\n",
       "      <td>...</td>\n",
       "      <td>18.000000</td>\n",
       "      <td>12.000000</td>\n",
       "      <td>35.000000</td>\n",
       "      <td>21.000000</td>\n",
       "      <td>15.000000</td>\n",
       "      <td>13.000000</td>\n",
       "      <td>12.00000</td>\n",
       "      <td>21.000000</td>\n",
       "      <td>20.000000</td>\n",
       "      <td>17.000000</td>\n",
       "    </tr>\n",
       "  </tbody>\n",
       "</table>\n",
       "<p>8 rows × 38 columns</p>\n",
       "</div>"
      ],
      "text/plain": [
       "model      4runner 4wd         a4  a4 quattro  a6 quattro     altima  \\\n",
       "mpg count     6.000000   7.000000    8.000000         3.0   6.000000   \n",
       "    mean     15.166667  18.857143   17.125000        16.0  20.666667   \n",
       "    std       0.752773   1.864454    1.807722         1.0   1.966384   \n",
       "    min      14.000000  16.000000   15.000000        15.0  19.000000   \n",
       "    25%      15.000000  18.000000   15.750000        15.5  19.000000   \n",
       "    50%      15.000000  18.000000   17.000000        16.0  20.000000   \n",
       "    75%      15.750000  20.500000   18.250000        16.5  22.500000   \n",
       "    max      16.000000  21.000000   20.000000        17.0  23.000000   \n",
       "\n",
       "model      c1500 suburban 2wd      camry  camry solara  caravan 2wd  \\\n",
       "mpg count             5.00000   7.000000      7.000000    11.000000   \n",
       "    mean             12.80000  19.857143     19.857143    15.818182   \n",
       "    std               1.30384   1.463850      1.772811     1.834022   \n",
       "    min              11.00000  18.000000     18.000000    11.000000   \n",
       "    25%              12.00000  18.500000     18.000000    15.500000   \n",
       "    50%              13.00000  21.000000     21.000000    16.000000   \n",
       "    75%              14.00000  21.000000     21.000000    17.000000   \n",
       "    max              14.00000  21.000000     22.000000    18.000000   \n",
       "\n",
       "model          civic  ...    mustang  navigator 2wd  new beetle     passat  \\\n",
       "mpg count   9.000000  ...   9.000000       3.000000    6.000000   7.000000   \n",
       "    mean   24.444444  ...  15.888889      11.333333   24.000000  18.571429   \n",
       "    std     1.943651  ...   1.452966       0.577350    6.511528   1.902379   \n",
       "    min    21.000000  ...  14.000000      11.000000   19.000000  16.000000   \n",
       "    25%    24.000000  ...  15.000000      11.000000   20.000000  17.500000   \n",
       "    50%    24.000000  ...  15.000000      11.000000   20.500000  18.000000   \n",
       "    75%    25.000000  ...  17.000000      11.500000   27.000000  20.000000   \n",
       "    max    28.000000  ...  18.000000      12.000000   35.000000  21.000000   \n",
       "\n",
       "model      pathfinder 4wd  ram 1500 pickup 4wd  range rover     sonata  \\\n",
       "mpg count        4.000000            10.000000      4.00000   7.000000   \n",
       "    mean        13.750000            11.400000     11.50000  19.000000   \n",
       "    std          1.258306             1.505545      0.57735   1.414214   \n",
       "    min         12.000000             9.000000     11.00000  18.000000   \n",
       "    25%         13.500000            11.000000     11.00000  18.000000   \n",
       "    50%         14.000000            11.500000     11.50000  18.000000   \n",
       "    75%         14.250000            12.750000     12.00000  20.000000   \n",
       "    max         15.000000            13.000000     12.00000  21.000000   \n",
       "\n",
       "model        tiburon  toyota tacoma 4wd  \n",
       "mpg count   7.000000           7.000000  \n",
       "    mean   18.285714          15.571429  \n",
       "    std     1.603567           0.786796  \n",
       "    min    16.000000          15.000000  \n",
       "    25%    17.000000          15.000000  \n",
       "    50%    19.000000          15.000000  \n",
       "    75%    19.500000          16.000000  \n",
       "    max    20.000000          17.000000  \n",
       "\n",
       "[8 rows x 38 columns]"
      ]
     },
     "execution_count": 37,
     "metadata": {},
     "output_type": "execute_result"
    }
   ],
   "source": [
    "# 자동차 모델별,mpg 데이터 subset\n",
    "df = mycars[['model','mpg']]\n",
    "# 모델 별 데이터 수 평균 표준편차\n",
    "df.groupby('model').describe().T"
   ]
  },
  {
   "cell_type": "markdown",
   "id": "3b067d0e-214d-427b-b8ba-63c8f9b89a0f",
   "metadata": {},
   "source": [
    "## 모델 별 연비(mpg)\n",
    "- carvan2wd 의 빈도수가 11로 젤 많다\n",
    "  - carvan2wd 의 연비\n",
    "    - 하한 : 15 -1.5*(17-115)\n",
    "    - 상한 : 17 +-1.5*(17-115)\n"
   ]
  },
  {
   "cell_type": "code",
   "execution_count": 66,
   "id": "1700bce8-d73b-465a-9e63-a24c32615b7f",
   "metadata": {},
   "outputs": [
    {
     "data": {
      "text/html": [
       "<div>\n",
       "<style scoped>\n",
       "    .dataframe tbody tr th:only-of-type {\n",
       "        vertical-align: middle;\n",
       "    }\n",
       "\n",
       "    .dataframe tbody tr th {\n",
       "        vertical-align: top;\n",
       "    }\n",
       "\n",
       "    .dataframe thead th {\n",
       "        text-align: right;\n",
       "    }\n",
       "</style>\n",
       "<table border=\"1\" class=\"dataframe\">\n",
       "  <thead>\n",
       "    <tr style=\"text-align: right;\">\n",
       "      <th></th>\n",
       "      <th>mpg</th>\n",
       "      <th>highway_mileage</th>\n",
       "    </tr>\n",
       "  </thead>\n",
       "  <tbody>\n",
       "    <tr>\n",
       "      <th>count</th>\n",
       "      <td>234.000000</td>\n",
       "      <td>234.000000</td>\n",
       "    </tr>\n",
       "    <tr>\n",
       "      <th>mean</th>\n",
       "      <td>16.858974</td>\n",
       "      <td>23.440171</td>\n",
       "    </tr>\n",
       "    <tr>\n",
       "      <th>std</th>\n",
       "      <td>4.255946</td>\n",
       "      <td>5.954643</td>\n",
       "    </tr>\n",
       "    <tr>\n",
       "      <th>min</th>\n",
       "      <td>9.000000</td>\n",
       "      <td>12.000000</td>\n",
       "    </tr>\n",
       "    <tr>\n",
       "      <th>25%</th>\n",
       "      <td>14.000000</td>\n",
       "      <td>18.000000</td>\n",
       "    </tr>\n",
       "    <tr>\n",
       "      <th>50%</th>\n",
       "      <td>17.000000</td>\n",
       "      <td>24.000000</td>\n",
       "    </tr>\n",
       "    <tr>\n",
       "      <th>75%</th>\n",
       "      <td>19.000000</td>\n",
       "      <td>27.000000</td>\n",
       "    </tr>\n",
       "    <tr>\n",
       "      <th>max</th>\n",
       "      <td>35.000000</td>\n",
       "      <td>44.000000</td>\n",
       "    </tr>\n",
       "  </tbody>\n",
       "</table>\n",
       "</div>"
      ],
      "text/plain": [
       "              mpg  highway_mileage\n",
       "count  234.000000       234.000000\n",
       "mean    16.858974        23.440171\n",
       "std      4.255946         5.954643\n",
       "min      9.000000        12.000000\n",
       "25%     14.000000        18.000000\n",
       "50%     17.000000        24.000000\n",
       "75%     19.000000        27.000000\n",
       "max     35.000000        44.000000"
      ]
     },
     "execution_count": 66,
     "metadata": {},
     "output_type": "execute_result"
    }
   ],
   "source": [
    "# 시내 연비(mpg) 통계치 계산\n",
    "mpg_stats = mycars['mpg'].describe()\n",
    "\n",
    "# 고속도로 연비(highway_mileage) 통계치 계산\n",
    "highway_mileage_stats = mycars['highway_mileage'].describe()\n",
    "\n",
    "mycars[['mpg','highway_mileage']].describe()"
   ]
  },
  {
   "cell_type": "code",
   "execution_count": 42,
   "id": "8d7f5be3-feff-4137-b3e5-da36d5399ca1",
   "metadata": {},
   "outputs": [],
   "source": [
    "QC1 = pd.read_csv('data/EXH_QC1.csv')\n",
    "df= QC1[['Flaws','Period']]\n",
    "\n",
    "# Flaws 변수 count : value_count , 순서대로 정령 : sort_index\n",
    "count = df['Flaws'].value_counts().sort_index()\n",
    "\n",
    "# CumCnt 계산 : cumsum\n",
    "cumcnt = np.cumsum(count)\n",
    "# Percent 계산 : 직접\n",
    "percent = count/sum(count)*100\n",
    "\n",
    "# CumPct 계산 : cumsum\n",
    "cumpct = np.cumsum(percent)"
   ]
  },
  {
   "cell_type": "code",
   "execution_count": 56,
   "id": "72d100fe-cd1d-4248-b4f7-b5eb0a6a85cf",
   "metadata": {},
   "outputs": [
    {
     "data": {
      "text/html": [
       "<div>\n",
       "<style scoped>\n",
       "    .dataframe tbody tr th:only-of-type {\n",
       "        vertical-align: middle;\n",
       "    }\n",
       "\n",
       "    .dataframe tbody tr th {\n",
       "        vertical-align: top;\n",
       "    }\n",
       "\n",
       "    .dataframe thead th {\n",
       "        text-align: right;\n",
       "    }\n",
       "</style>\n",
       "<table border=\"1\" class=\"dataframe\">\n",
       "  <thead>\n",
       "    <tr style=\"text-align: right;\">\n",
       "      <th></th>\n",
       "      <th>Flaws</th>\n",
       "      <th>Period</th>\n",
       "      <th>Strength</th>\n",
       "      <th>Baking Time</th>\n",
       "      <th>Cabbage weight</th>\n",
       "    </tr>\n",
       "  </thead>\n",
       "  <tbody>\n",
       "    <tr>\n",
       "      <th>0</th>\n",
       "      <td>Scratch</td>\n",
       "      <td>Day</td>\n",
       "      <td>37.6</td>\n",
       "      <td>0.798922</td>\n",
       "      <td>3.6</td>\n",
       "    </tr>\n",
       "    <tr>\n",
       "      <th>1</th>\n",
       "      <td>Scratch</td>\n",
       "      <td>Day</td>\n",
       "      <td>38.6</td>\n",
       "      <td>0.849020</td>\n",
       "      <td>2.9</td>\n",
       "    </tr>\n",
       "    <tr>\n",
       "      <th>2</th>\n",
       "      <td>Peel</td>\n",
       "      <td>Day</td>\n",
       "      <td>37.2</td>\n",
       "      <td>0.816163</td>\n",
       "      <td>2.8</td>\n",
       "    </tr>\n",
       "    <tr>\n",
       "      <th>3</th>\n",
       "      <td>Peel</td>\n",
       "      <td>Day</td>\n",
       "      <td>36.4</td>\n",
       "      <td>0.758266</td>\n",
       "      <td>2.6</td>\n",
       "    </tr>\n",
       "    <tr>\n",
       "      <th>4</th>\n",
       "      <td>Smudge</td>\n",
       "      <td>Day</td>\n",
       "      <td>38.6</td>\n",
       "      <td>0.815894</td>\n",
       "      <td>3.4</td>\n",
       "    </tr>\n",
       "  </tbody>\n",
       "</table>\n",
       "</div>"
      ],
      "text/plain": [
       "     Flaws Period  Strength  Baking Time  Cabbage weight\n",
       "0  Scratch    Day      37.6     0.798922             3.6\n",
       "1  Scratch    Day      38.6     0.849020             2.9\n",
       "2     Peel    Day      37.2     0.816163             2.8\n",
       "3     Peel    Day      36.4     0.758266             2.6\n",
       "4   Smudge    Day      38.6     0.815894             3.4"
      ]
     },
     "execution_count": 56,
     "metadata": {},
     "output_type": "execute_result"
    }
   ],
   "source": [
    "QC1.head()"
   ]
  },
  {
   "cell_type": "code",
   "execution_count": 44,
   "id": "14c61132-6334-4522-a48c-b4e42448cdf3",
   "metadata": {},
   "outputs": [
    {
     "data": {
      "text/html": [
       "<div>\n",
       "<style scoped>\n",
       "    .dataframe tbody tr th:only-of-type {\n",
       "        vertical-align: middle;\n",
       "    }\n",
       "\n",
       "    .dataframe tbody tr th {\n",
       "        vertical-align: top;\n",
       "    }\n",
       "\n",
       "    .dataframe thead th {\n",
       "        text-align: right;\n",
       "    }\n",
       "</style>\n",
       "<table border=\"1\" class=\"dataframe\">\n",
       "  <thead>\n",
       "    <tr style=\"text-align: right;\">\n",
       "      <th>Flaws</th>\n",
       "      <th>Count</th>\n",
       "      <th>Cumcnt</th>\n",
       "      <th>Percent</th>\n",
       "      <th>CumPct</th>\n",
       "    </tr>\n",
       "    <tr>\n",
       "      <th>Flaws</th>\n",
       "      <th></th>\n",
       "      <th></th>\n",
       "      <th></th>\n",
       "      <th></th>\n",
       "    </tr>\n",
       "  </thead>\n",
       "  <tbody>\n",
       "    <tr>\n",
       "      <th>Other</th>\n",
       "      <td>6</td>\n",
       "      <td>6</td>\n",
       "      <td>15.0</td>\n",
       "      <td>15.0</td>\n",
       "    </tr>\n",
       "    <tr>\n",
       "      <th>Peel</th>\n",
       "      <td>15</td>\n",
       "      <td>21</td>\n",
       "      <td>37.5</td>\n",
       "      <td>52.5</td>\n",
       "    </tr>\n",
       "    <tr>\n",
       "      <th>Scratch</th>\n",
       "      <td>13</td>\n",
       "      <td>34</td>\n",
       "      <td>32.5</td>\n",
       "      <td>85.0</td>\n",
       "    </tr>\n",
       "    <tr>\n",
       "      <th>Smudge</th>\n",
       "      <td>6</td>\n",
       "      <td>40</td>\n",
       "      <td>15.0</td>\n",
       "      <td>100.0</td>\n",
       "    </tr>\n",
       "  </tbody>\n",
       "</table>\n",
       "</div>"
      ],
      "text/plain": [
       "Flaws    Count  Cumcnt  Percent  CumPct\n",
       "Flaws                                  \n",
       "Other        6       6     15.0    15.0\n",
       "Peel        15      21     37.5    52.5\n",
       "Scratch     13      34     32.5    85.0\n",
       "Smudge       6      40     15.0   100.0"
      ]
     },
     "execution_count": 44,
     "metadata": {},
     "output_type": "execute_result"
    }
   ],
   "source": [
    "# DataFrame 으로 취합\n",
    "count_data = pd.DataFrame({'Count':count,'Cumcnt':cumcnt,\n",
    "                          'Percent':percent,'CumPct':cumpct})\n",
    "\n",
    "# Column의 name 생성\n",
    "count_data.columns.name='Flaws'\n",
    "count_data"
   ]
  },
  {
   "cell_type": "code",
   "execution_count": 46,
   "id": "4c6c1176-30ca-4384-b178-902e02c04801",
   "metadata": {},
   "outputs": [
    {
     "data": {
      "text/html": [
       "<div>\n",
       "<style scoped>\n",
       "    .dataframe tbody tr th:only-of-type {\n",
       "        vertical-align: middle;\n",
       "    }\n",
       "\n",
       "    .dataframe tbody tr th {\n",
       "        vertical-align: top;\n",
       "    }\n",
       "\n",
       "    .dataframe thead th {\n",
       "        text-align: right;\n",
       "    }\n",
       "</style>\n",
       "<table border=\"1\" class=\"dataframe\">\n",
       "  <thead>\n",
       "    <tr style=\"text-align: right;\">\n",
       "      <th></th>\n",
       "      <th>manufacturer</th>\n",
       "      <th>model</th>\n",
       "      <th>displacement</th>\n",
       "      <th>year</th>\n",
       "      <th>cylinder</th>\n",
       "      <th>automatic</th>\n",
       "      <th>driving</th>\n",
       "      <th>mpg</th>\n",
       "      <th>highway_mileage</th>\n",
       "      <th>fuel</th>\n",
       "      <th>class</th>\n",
       "    </tr>\n",
       "  </thead>\n",
       "  <tbody>\n",
       "    <tr>\n",
       "      <th>0</th>\n",
       "      <td>audi</td>\n",
       "      <td>a4</td>\n",
       "      <td>1.8</td>\n",
       "      <td>1999</td>\n",
       "      <td>4</td>\n",
       "      <td>auto</td>\n",
       "      <td>f</td>\n",
       "      <td>18</td>\n",
       "      <td>29</td>\n",
       "      <td>p</td>\n",
       "      <td>compact</td>\n",
       "    </tr>\n",
       "    <tr>\n",
       "      <th>1</th>\n",
       "      <td>audi</td>\n",
       "      <td>a4</td>\n",
       "      <td>1.8</td>\n",
       "      <td>1999</td>\n",
       "      <td>4</td>\n",
       "      <td>manual</td>\n",
       "      <td>f</td>\n",
       "      <td>21</td>\n",
       "      <td>29</td>\n",
       "      <td>p</td>\n",
       "      <td>compact</td>\n",
       "    </tr>\n",
       "    <tr>\n",
       "      <th>2</th>\n",
       "      <td>audi</td>\n",
       "      <td>a4</td>\n",
       "      <td>2.0</td>\n",
       "      <td>2008</td>\n",
       "      <td>4</td>\n",
       "      <td>manual</td>\n",
       "      <td>f</td>\n",
       "      <td>20</td>\n",
       "      <td>31</td>\n",
       "      <td>p</td>\n",
       "      <td>compact</td>\n",
       "    </tr>\n",
       "    <tr>\n",
       "      <th>3</th>\n",
       "      <td>audi</td>\n",
       "      <td>a4</td>\n",
       "      <td>2.0</td>\n",
       "      <td>2008</td>\n",
       "      <td>4</td>\n",
       "      <td>auto</td>\n",
       "      <td>f</td>\n",
       "      <td>21</td>\n",
       "      <td>30</td>\n",
       "      <td>p</td>\n",
       "      <td>compact</td>\n",
       "    </tr>\n",
       "    <tr>\n",
       "      <th>4</th>\n",
       "      <td>audi</td>\n",
       "      <td>a4</td>\n",
       "      <td>2.8</td>\n",
       "      <td>1999</td>\n",
       "      <td>6</td>\n",
       "      <td>auto</td>\n",
       "      <td>f</td>\n",
       "      <td>16</td>\n",
       "      <td>26</td>\n",
       "      <td>p</td>\n",
       "      <td>compact</td>\n",
       "    </tr>\n",
       "  </tbody>\n",
       "</table>\n",
       "</div>"
      ],
      "text/plain": [
       "  manufacturer model  displacement  year  cylinder automatic driving  mpg  \\\n",
       "0         audi    a4           1.8  1999         4      auto       f   18   \n",
       "1         audi    a4           1.8  1999         4    manual       f   21   \n",
       "2         audi    a4           2.0  2008         4    manual       f   20   \n",
       "3         audi    a4           2.0  2008         4      auto       f   21   \n",
       "4         audi    a4           2.8  1999         6      auto       f   16   \n",
       "\n",
       "   highway_mileage fuel    class  \n",
       "0               29    p  compact  \n",
       "1               29    p  compact  \n",
       "2               31    p  compact  \n",
       "3               30    p  compact  \n",
       "4               26    p  compact  "
      ]
     },
     "execution_count": 46,
     "metadata": {},
     "output_type": "execute_result"
    }
   ],
   "source": [
    "# 다음 데이터는 자동차의 모델과 연비에 대한 자료에 \n",
    "# 범주형 변수인 구동방식, 모델에 대해 counts,percents ,cumnulative counts , cumulative perents를 계산\n",
    "mycars.head()"
   ]
  },
  {
   "cell_type": "code",
   "execution_count": 58,
   "id": "5e967aa1-bfd5-49e1-a23b-20816acf78c6",
   "metadata": {
    "scrolled": true
   },
   "outputs": [
    {
     "data": {
      "text/html": [
       "<div>\n",
       "<style scoped>\n",
       "    .dataframe tbody tr th:only-of-type {\n",
       "        vertical-align: middle;\n",
       "    }\n",
       "\n",
       "    .dataframe tbody tr th {\n",
       "        vertical-align: top;\n",
       "    }\n",
       "\n",
       "    .dataframe thead th {\n",
       "        text-align: right;\n",
       "    }\n",
       "</style>\n",
       "<table border=\"1\" class=\"dataframe\">\n",
       "  <thead>\n",
       "    <tr style=\"text-align: right;\">\n",
       "      <th>model</th>\n",
       "      <th>Count</th>\n",
       "      <th>Cumcnt</th>\n",
       "      <th>Percent</th>\n",
       "      <th>CumPct</th>\n",
       "    </tr>\n",
       "    <tr>\n",
       "      <th>model</th>\n",
       "      <th></th>\n",
       "      <th></th>\n",
       "      <th></th>\n",
       "      <th></th>\n",
       "    </tr>\n",
       "  </thead>\n",
       "  <tbody>\n",
       "    <tr>\n",
       "      <th>4runner 4wd</th>\n",
       "      <td>6</td>\n",
       "      <td>6</td>\n",
       "      <td>2.564103</td>\n",
       "      <td>2.564103</td>\n",
       "    </tr>\n",
       "    <tr>\n",
       "      <th>a4</th>\n",
       "      <td>7</td>\n",
       "      <td>13</td>\n",
       "      <td>2.991453</td>\n",
       "      <td>5.555556</td>\n",
       "    </tr>\n",
       "    <tr>\n",
       "      <th>a4 quattro</th>\n",
       "      <td>8</td>\n",
       "      <td>21</td>\n",
       "      <td>3.418803</td>\n",
       "      <td>8.974359</td>\n",
       "    </tr>\n",
       "    <tr>\n",
       "      <th>a6 quattro</th>\n",
       "      <td>3</td>\n",
       "      <td>24</td>\n",
       "      <td>1.282051</td>\n",
       "      <td>10.256410</td>\n",
       "    </tr>\n",
       "    <tr>\n",
       "      <th>altima</th>\n",
       "      <td>6</td>\n",
       "      <td>30</td>\n",
       "      <td>2.564103</td>\n",
       "      <td>12.820513</td>\n",
       "    </tr>\n",
       "    <tr>\n",
       "      <th>c1500 suburban 2wd</th>\n",
       "      <td>5</td>\n",
       "      <td>35</td>\n",
       "      <td>2.136752</td>\n",
       "      <td>14.957265</td>\n",
       "    </tr>\n",
       "    <tr>\n",
       "      <th>camry</th>\n",
       "      <td>7</td>\n",
       "      <td>42</td>\n",
       "      <td>2.991453</td>\n",
       "      <td>17.948718</td>\n",
       "    </tr>\n",
       "    <tr>\n",
       "      <th>camry solara</th>\n",
       "      <td>7</td>\n",
       "      <td>49</td>\n",
       "      <td>2.991453</td>\n",
       "      <td>20.940171</td>\n",
       "    </tr>\n",
       "    <tr>\n",
       "      <th>caravan 2wd</th>\n",
       "      <td>11</td>\n",
       "      <td>60</td>\n",
       "      <td>4.700855</td>\n",
       "      <td>25.641026</td>\n",
       "    </tr>\n",
       "    <tr>\n",
       "      <th>civic</th>\n",
       "      <td>9</td>\n",
       "      <td>69</td>\n",
       "      <td>3.846154</td>\n",
       "      <td>29.487179</td>\n",
       "    </tr>\n",
       "    <tr>\n",
       "      <th>corolla</th>\n",
       "      <td>5</td>\n",
       "      <td>74</td>\n",
       "      <td>2.136752</td>\n",
       "      <td>31.623932</td>\n",
       "    </tr>\n",
       "    <tr>\n",
       "      <th>corvette</th>\n",
       "      <td>5</td>\n",
       "      <td>79</td>\n",
       "      <td>2.136752</td>\n",
       "      <td>33.760684</td>\n",
       "    </tr>\n",
       "    <tr>\n",
       "      <th>dakota pickup 4wd</th>\n",
       "      <td>9</td>\n",
       "      <td>88</td>\n",
       "      <td>3.846154</td>\n",
       "      <td>37.606838</td>\n",
       "    </tr>\n",
       "    <tr>\n",
       "      <th>durango 4wd</th>\n",
       "      <td>7</td>\n",
       "      <td>95</td>\n",
       "      <td>2.991453</td>\n",
       "      <td>40.598291</td>\n",
       "    </tr>\n",
       "    <tr>\n",
       "      <th>expedition 2wd</th>\n",
       "      <td>3</td>\n",
       "      <td>98</td>\n",
       "      <td>1.282051</td>\n",
       "      <td>41.880342</td>\n",
       "    </tr>\n",
       "    <tr>\n",
       "      <th>explorer 4wd</th>\n",
       "      <td>6</td>\n",
       "      <td>104</td>\n",
       "      <td>2.564103</td>\n",
       "      <td>44.444444</td>\n",
       "    </tr>\n",
       "    <tr>\n",
       "      <th>f150 pickup 4wd</th>\n",
       "      <td>7</td>\n",
       "      <td>111</td>\n",
       "      <td>2.991453</td>\n",
       "      <td>47.435897</td>\n",
       "    </tr>\n",
       "    <tr>\n",
       "      <th>forester awd</th>\n",
       "      <td>6</td>\n",
       "      <td>117</td>\n",
       "      <td>2.564103</td>\n",
       "      <td>50.000000</td>\n",
       "    </tr>\n",
       "    <tr>\n",
       "      <th>grand cherokee 4wd</th>\n",
       "      <td>8</td>\n",
       "      <td>125</td>\n",
       "      <td>3.418803</td>\n",
       "      <td>53.418803</td>\n",
       "    </tr>\n",
       "    <tr>\n",
       "      <th>grand prix</th>\n",
       "      <td>5</td>\n",
       "      <td>130</td>\n",
       "      <td>2.136752</td>\n",
       "      <td>55.555556</td>\n",
       "    </tr>\n",
       "    <tr>\n",
       "      <th>gti</th>\n",
       "      <td>5</td>\n",
       "      <td>135</td>\n",
       "      <td>2.136752</td>\n",
       "      <td>57.692308</td>\n",
       "    </tr>\n",
       "    <tr>\n",
       "      <th>impreza awd</th>\n",
       "      <td>8</td>\n",
       "      <td>143</td>\n",
       "      <td>3.418803</td>\n",
       "      <td>61.111111</td>\n",
       "    </tr>\n",
       "    <tr>\n",
       "      <th>jetta</th>\n",
       "      <td>9</td>\n",
       "      <td>152</td>\n",
       "      <td>3.846154</td>\n",
       "      <td>64.957265</td>\n",
       "    </tr>\n",
       "    <tr>\n",
       "      <th>k1500 tahoe 4wd</th>\n",
       "      <td>4</td>\n",
       "      <td>156</td>\n",
       "      <td>1.709402</td>\n",
       "      <td>66.666667</td>\n",
       "    </tr>\n",
       "    <tr>\n",
       "      <th>land cruiser wagon 4wd</th>\n",
       "      <td>2</td>\n",
       "      <td>158</td>\n",
       "      <td>0.854701</td>\n",
       "      <td>67.521368</td>\n",
       "    </tr>\n",
       "    <tr>\n",
       "      <th>malibu</th>\n",
       "      <td>5</td>\n",
       "      <td>163</td>\n",
       "      <td>2.136752</td>\n",
       "      <td>69.658120</td>\n",
       "    </tr>\n",
       "    <tr>\n",
       "      <th>maxima</th>\n",
       "      <td>3</td>\n",
       "      <td>166</td>\n",
       "      <td>1.282051</td>\n",
       "      <td>70.940171</td>\n",
       "    </tr>\n",
       "    <tr>\n",
       "      <th>mountaineer 4wd</th>\n",
       "      <td>4</td>\n",
       "      <td>170</td>\n",
       "      <td>1.709402</td>\n",
       "      <td>72.649573</td>\n",
       "    </tr>\n",
       "    <tr>\n",
       "      <th>mustang</th>\n",
       "      <td>9</td>\n",
       "      <td>179</td>\n",
       "      <td>3.846154</td>\n",
       "      <td>76.495726</td>\n",
       "    </tr>\n",
       "    <tr>\n",
       "      <th>navigator 2wd</th>\n",
       "      <td>3</td>\n",
       "      <td>182</td>\n",
       "      <td>1.282051</td>\n",
       "      <td>77.777778</td>\n",
       "    </tr>\n",
       "    <tr>\n",
       "      <th>new beetle</th>\n",
       "      <td>6</td>\n",
       "      <td>188</td>\n",
       "      <td>2.564103</td>\n",
       "      <td>80.341880</td>\n",
       "    </tr>\n",
       "    <tr>\n",
       "      <th>passat</th>\n",
       "      <td>7</td>\n",
       "      <td>195</td>\n",
       "      <td>2.991453</td>\n",
       "      <td>83.333333</td>\n",
       "    </tr>\n",
       "    <tr>\n",
       "      <th>pathfinder 4wd</th>\n",
       "      <td>4</td>\n",
       "      <td>199</td>\n",
       "      <td>1.709402</td>\n",
       "      <td>85.042735</td>\n",
       "    </tr>\n",
       "    <tr>\n",
       "      <th>ram 1500 pickup 4wd</th>\n",
       "      <td>10</td>\n",
       "      <td>209</td>\n",
       "      <td>4.273504</td>\n",
       "      <td>89.316239</td>\n",
       "    </tr>\n",
       "    <tr>\n",
       "      <th>range rover</th>\n",
       "      <td>4</td>\n",
       "      <td>213</td>\n",
       "      <td>1.709402</td>\n",
       "      <td>91.025641</td>\n",
       "    </tr>\n",
       "    <tr>\n",
       "      <th>sonata</th>\n",
       "      <td>7</td>\n",
       "      <td>220</td>\n",
       "      <td>2.991453</td>\n",
       "      <td>94.017094</td>\n",
       "    </tr>\n",
       "    <tr>\n",
       "      <th>tiburon</th>\n",
       "      <td>7</td>\n",
       "      <td>227</td>\n",
       "      <td>2.991453</td>\n",
       "      <td>97.008547</td>\n",
       "    </tr>\n",
       "    <tr>\n",
       "      <th>toyota tacoma 4wd</th>\n",
       "      <td>7</td>\n",
       "      <td>234</td>\n",
       "      <td>2.991453</td>\n",
       "      <td>100.000000</td>\n",
       "    </tr>\n",
       "  </tbody>\n",
       "</table>\n",
       "</div>"
      ],
      "text/plain": [
       "model                   Count  Cumcnt   Percent      CumPct\n",
       "model                                                      \n",
       "4runner 4wd                 6       6  2.564103    2.564103\n",
       "a4                          7      13  2.991453    5.555556\n",
       "a4 quattro                  8      21  3.418803    8.974359\n",
       "a6 quattro                  3      24  1.282051   10.256410\n",
       "altima                      6      30  2.564103   12.820513\n",
       "c1500 suburban 2wd          5      35  2.136752   14.957265\n",
       "camry                       7      42  2.991453   17.948718\n",
       "camry solara                7      49  2.991453   20.940171\n",
       "caravan 2wd                11      60  4.700855   25.641026\n",
       "civic                       9      69  3.846154   29.487179\n",
       "corolla                     5      74  2.136752   31.623932\n",
       "corvette                    5      79  2.136752   33.760684\n",
       "dakota pickup 4wd           9      88  3.846154   37.606838\n",
       "durango 4wd                 7      95  2.991453   40.598291\n",
       "expedition 2wd              3      98  1.282051   41.880342\n",
       "explorer 4wd                6     104  2.564103   44.444444\n",
       "f150 pickup 4wd             7     111  2.991453   47.435897\n",
       "forester awd                6     117  2.564103   50.000000\n",
       "grand cherokee 4wd          8     125  3.418803   53.418803\n",
       "grand prix                  5     130  2.136752   55.555556\n",
       "gti                         5     135  2.136752   57.692308\n",
       "impreza awd                 8     143  3.418803   61.111111\n",
       "jetta                       9     152  3.846154   64.957265\n",
       "k1500 tahoe 4wd             4     156  1.709402   66.666667\n",
       "land cruiser wagon 4wd      2     158  0.854701   67.521368\n",
       "malibu                      5     163  2.136752   69.658120\n",
       "maxima                      3     166  1.282051   70.940171\n",
       "mountaineer 4wd             4     170  1.709402   72.649573\n",
       "mustang                     9     179  3.846154   76.495726\n",
       "navigator 2wd               3     182  1.282051   77.777778\n",
       "new beetle                  6     188  2.564103   80.341880\n",
       "passat                      7     195  2.991453   83.333333\n",
       "pathfinder 4wd              4     199  1.709402   85.042735\n",
       "ram 1500 pickup 4wd        10     209  4.273504   89.316239\n",
       "range rover                 4     213  1.709402   91.025641\n",
       "sonata                      7     220  2.991453   94.017094\n",
       "tiburon                     7     227  2.991453   97.008547\n",
       "toyota tacoma 4wd           7     234  2.991453  100.000000"
      ]
     },
     "execution_count": 58,
     "metadata": {},
     "output_type": "execute_result"
    }
   ],
   "source": [
    "count = mycars['model'].value_counts().sort_index()\n",
    "\n",
    "# CumCnt 계산 : cumsum\n",
    "cumcnt = np.cumsum(count)\n",
    "# Percent 계산 : 직접\n",
    "percent = count/sum(count)*100\n",
    "\n",
    "# CumPct 계산 : cumsum\n",
    "cumpct = np.cumsum(percent)\n",
    "\n",
    "# DataFrame 으로 취합\n",
    "count_data = pd.DataFrame({'Count':count,'Cumcnt':cumcnt,\n",
    "                          'Percent':percent,'CumPct':cumpct})\n",
    "\n",
    "# Column의 name 생성\n",
    "count_data.columns.name='model'\n",
    "count_data"
   ]
  },
  {
   "cell_type": "code",
   "execution_count": 60,
   "id": "f12f2811-d23a-45e5-86ee-c194fc6a29e1",
   "metadata": {},
   "outputs": [
    {
     "data": {
      "text/html": [
       "<div>\n",
       "<style scoped>\n",
       "    .dataframe tbody tr th:only-of-type {\n",
       "        vertical-align: middle;\n",
       "    }\n",
       "\n",
       "    .dataframe tbody tr th {\n",
       "        vertical-align: top;\n",
       "    }\n",
       "\n",
       "    .dataframe thead th {\n",
       "        text-align: right;\n",
       "    }\n",
       "</style>\n",
       "<table border=\"1\" class=\"dataframe\">\n",
       "  <thead>\n",
       "    <tr style=\"text-align: right;\">\n",
       "      <th>Driving</th>\n",
       "      <th>Count</th>\n",
       "      <th>Cumcnt</th>\n",
       "      <th>Percent</th>\n",
       "      <th>CumPct</th>\n",
       "    </tr>\n",
       "    <tr>\n",
       "      <th>driving</th>\n",
       "      <th></th>\n",
       "      <th></th>\n",
       "      <th></th>\n",
       "      <th></th>\n",
       "    </tr>\n",
       "  </thead>\n",
       "  <tbody>\n",
       "    <tr>\n",
       "      <th>4</th>\n",
       "      <td>103</td>\n",
       "      <td>103</td>\n",
       "      <td>44.017094</td>\n",
       "      <td>44.017094</td>\n",
       "    </tr>\n",
       "    <tr>\n",
       "      <th>f</th>\n",
       "      <td>106</td>\n",
       "      <td>209</td>\n",
       "      <td>45.299145</td>\n",
       "      <td>89.316239</td>\n",
       "    </tr>\n",
       "    <tr>\n",
       "      <th>r</th>\n",
       "      <td>25</td>\n",
       "      <td>234</td>\n",
       "      <td>10.683761</td>\n",
       "      <td>100.000000</td>\n",
       "    </tr>\n",
       "  </tbody>\n",
       "</table>\n",
       "</div>"
      ],
      "text/plain": [
       "Driving  Count  Cumcnt    Percent      CumPct\n",
       "driving                                      \n",
       "4          103     103  44.017094   44.017094\n",
       "f          106     209  45.299145   89.316239\n",
       "r           25     234  10.683761  100.000000"
      ]
     },
     "execution_count": 60,
     "metadata": {},
     "output_type": "execute_result"
    }
   ],
   "source": [
    "count = mycars['driving'].value_counts().sort_index()\n",
    "\n",
    "# CumCnt 계산 : cumsum\n",
    "cumcnt = np.cumsum(count)\n",
    "# Percent 계산 : 직접\n",
    "percent = count/sum(count)*100\n",
    "\n",
    "# CumPct 계산 : cumsum\n",
    "cumpct = np.cumsum(percent)\n",
    "\n",
    "# DataFrame 으로 취합\n",
    "count_data = pd.DataFrame({'Count':count,'Cumcnt':cumcnt,\n",
    "                          'Percent':percent,'CumPct':cumpct})\n",
    "\n",
    "# Column의 name 생성\n",
    "count_data.columns.name='Driving'\n",
    "count_data"
   ]
  },
  {
   "cell_type": "code",
   "execution_count": 74,
   "id": "535e2192-64d1-4bb2-ba2f-208361955a19",
   "metadata": {},
   "outputs": [
    {
     "name": "stdout",
     "output_type": "stream",
     "text": [
      "135분 이상 걸리는 A/S 작업 비율: 15.9%\n"
     ]
    }
   ],
   "source": [
    "# 확률 계산 연습\n",
    "\n",
    "from scipy import stats\n",
    "\n",
    "# 누적 확률 값 계산\n",
    "mu = 115\n",
    "sigma = 20\n",
    "x = 135\n",
    "prob = stats.norm.cdf(x, mu, sigma)\n",
    "\n",
    "print(\"{0}분 이상 걸리는 A/S 작업 비율: {1:.1f}%\".format(x, (1 - prob) * 100))\n"
   ]
  },
  {
   "cell_type": "code",
   "execution_count": 78,
   "id": "d927e77e-cee9-47a0-8fca-0a237eec78b2",
   "metadata": {},
   "outputs": [
    {
     "name": "stdout",
     "output_type": "stream",
     "text": [
      "180인 키일경우에 나는 몇 %범위에 위치 할까요: 15.9%\n"
     ]
    }
   ],
   "source": [
    "# 누적 확률 값 계산\n",
    "mu = 175\n",
    "sigma = 5\n",
    "x = 180\n",
    "prob = stats.norm.cdf(x, mu, sigma)\n",
    "\n",
    "print(\"{0}인 키일경우에 나는 몇 %범위에 위치 할까요: {1:.1f}%\".format(x, (1 - prob) * 100))"
   ]
  },
  {
   "cell_type": "code",
   "execution_count": 80,
   "id": "e12c8ed0-542e-4a5f-bf5c-d37c4d6d2772",
   "metadata": {},
   "outputs": [
    {
     "name": "stdout",
     "output_type": "stream",
     "text": [
      "12km 이상 15km 이하를 달릴 확률은 0.341에 해당함\n"
     ]
    }
   ],
   "source": [
    "# 누적 확률 값 계산\n",
    "mu = 12\n",
    "sigma = 3\n",
    "x1 = 15\n",
    "prob1 = stats.norm.cdf(x1, mu, sigma)\n",
    "\n",
    "print(\"{0}km 이상 {1}km 이하를 달릴 확률은 {2:.3f}에 해당함\".format(mu,x1, (prob1-0.5)))"
   ]
  },
  {
   "cell_type": "code",
   "execution_count": 82,
   "id": "2f08afce-044c-4d44-9341-2cf5355e857f",
   "metadata": {},
   "outputs": [
    {
     "name": "stdout",
     "output_type": "stream",
     "text": [
      "9km 이상 15km 이하를 달릴 확률은 0.683입니다\n",
      "15km 이상을 달릴 확률은 0.159입니다\n"
     ]
    }
   ],
   "source": [
    "# 누적 확률 값 계산\n",
    "from scipy import stats\n",
    "\n",
    "# 평균과 표준편차\n",
    "mu = 12\n",
    "sigma = 3\n",
    "\n",
    "# 1) 9km 이상 15km 이하를 달릴 확률\n",
    "x1 = 9\n",
    "x2 = 15\n",
    "prob1 = stats.norm.cdf(x1, mu, sigma)\n",
    "prob2 = stats.norm.cdf(x2, mu, sigma)\n",
    "prob_9_to_15 = prob2 - prob1\n",
    "\n",
    "print(\"{0}km 이상 {1}km 이하를 달릴 확률은 {2:.3f}입니다\".format(x1, x2, prob_9_to_15))\n",
    "\n",
    "# 2) 15km 이상을 달릴 확률\n",
    "prob3 = stats.norm.cdf(x2, mu, sigma)\n",
    "prob_above_15 = 1 - prob3\n",
    "\n",
    "print(\"{0}km 이상을 달릴 확률은 {1:.3f}입니다\".format(x2, prob_above_15))\n"
   ]
  },
  {
   "cell_type": "code",
   "execution_count": 88,
   "id": "715230d2-762d-46c3-a318-313038c1b52d",
   "metadata": {},
   "outputs": [
    {
     "name": "stdout",
     "output_type": "stream",
     "text": [
      "P(T <= t) : 0.907\n"
     ]
    }
   ],
   "source": [
    "# t-분포 연습\n",
    "from scipy import stats\n",
    "\n",
    "t = 1.53\n",
    "df = 5\n",
    "\n",
    "# t-분포의 누적 분포 함수 계산\n",
    "prob = stats.t.cdf(t, df)\n",
    "print(\"P(T <= t) : {:.3f}\".format(prob))\n"
   ]
  },
  {
   "cell_type": "code",
   "execution_count": 92,
   "id": "95b7f9eb-ee52-4e57-b732-681c2eb4d086",
   "metadata": {},
   "outputs": [
    {
     "name": "stdout",
     "output_type": "stream",
     "text": [
      "P(T <= t) : 0.976\n"
     ]
    }
   ],
   "source": [
    "t = 2.0\n",
    "df = 100\n",
    "\n",
    "# t-분포의 누적 분포 함수 계산\n",
    "prob = stats.t.cdf(t, df)\n",
    "print(\"P(T <= t) : {:.3f}\".format(prob))\n",
    "\n",
    "# cdf 는 누적확률이다 자세한 그림은 page 132p 참고"
   ]
  },
  {
   "cell_type": "code",
   "execution_count": 96,
   "id": "4f78537a-f06c-4ec9-ae20-b1701e0a11dc",
   "metadata": {},
   "outputs": [
    {
     "name": "stdout",
     "output_type": "stream",
     "text": [
      "P(X<=10) : 0.0002\n"
     ]
    }
   ],
   "source": [
    "# 카이재곱 분포 연습\n",
    "chisq = 10\n",
    "df =30\n",
    "\n",
    "prob = stats.chi2.cdf(chisq,df)\n",
    "print(\"P(X<={0}) : {1:.4f}\".format(chisq,prob))"
   ]
  },
  {
   "cell_type": "code",
   "execution_count": 98,
   "id": "21de0558-99b2-4360-9438-a0a7c04b1418",
   "metadata": {},
   "outputs": [
    {
     "name": "stdout",
     "output_type": "stream",
     "text": [
      "P(X<=3.0 : 0.0656\n"
     ]
    }
   ],
   "source": [
    "chisq = 3.0 # 카이제곱의 값\n",
    "df =8 # 자유도 값\n",
    "\n",
    "prob = stats.chi2.cdf(chisq,df)\n",
    "print(\"P(X<={0}) : {1:.4f}\".format(chisq,prob))"
   ]
  },
  {
   "cell_type": "code",
   "execution_count": 100,
   "id": "d646648c-e5fc-4fa0-8b18-7d2317256485",
   "metadata": {},
   "outputs": [
    {
     "name": "stdout",
     "output_type": "stream",
     "text": [
      "P(X<=F) : 0.904\n"
     ]
    }
   ],
   "source": [
    "# F분포\n",
    "\n",
    "f = 2.0\n",
    "dfnum = 15\n",
    "dfden = 15\n",
    "\n",
    "prob = stats.f.cdf(x=f,dfn=dfnum,dfd=dfden)\n",
    "print(\"P(X<=F) : {:.3f}\".format(prob))"
   ]
  },
  {
   "cell_type": "code",
   "execution_count": 102,
   "id": "c8d99899-d6cf-405a-8e7a-7f590cafa661",
   "metadata": {},
   "outputs": [
    {
     "name": "stdout",
     "output_type": "stream",
     "text": [
      "P(X<=F) : 0.850\n"
     ]
    }
   ],
   "source": [
    "# 실습\n",
    "f = 1.5\n",
    "dfnum = 10\n",
    "dfden = 100\n",
    "\n",
    "prob = stats.f.cdf(x=f,dfn=dfnum,dfd=dfden)\n",
    "print(\"P(X<=F) : {:.3f}\".format(prob))"
   ]
  },
  {
   "cell_type": "code",
   "execution_count": 104,
   "id": "f15166f1-58cc-40b5-acf5-3b9362c3c276",
   "metadata": {},
   "outputs": [
    {
     "name": "stdout",
     "output_type": "stream",
     "text": [
      "P(X=0) = 0.216\n",
      "P(X=1) = 0.432\n",
      "P(X=2) = 0.288\n",
      "P(X=3) = 0.064\n"
     ]
    }
   ],
   "source": [
    "# 이항 분포\n",
    "n = 3\n",
    "for i in range(n+1):\n",
    "    prob = stats.binom.pmf(k=i,n=n,p=0.4)\n",
    "    print(\"P(X={0}) = {1:.3f}\".format(i,prob))"
   ]
  },
  {
   "cell_type": "code",
   "execution_count": 106,
   "id": "20276dce-b4e9-4c41-b3e9-626b97a091d5",
   "metadata": {},
   "outputs": [
    {
     "name": "stdout",
     "output_type": "stream",
     "text": [
      "P(X=0) = 0.168\n",
      "P(X=1) = 0.360\n",
      "P(X=2) = 0.309\n",
      "P(X=3) = 0.132\n",
      "P(X=4) = 0.028\n",
      "P(X=5) = 0.002\n"
     ]
    }
   ],
   "source": [
    "n = 5\n",
    "for i in range(n+1):\n",
    "    prob = stats.binom.pmf(k=i,n=n,p=0.3)\n",
    "    print(\"P(X={0}) = {1:.3f}\".format(i,prob))"
   ]
  },
  {
   "cell_type": "code",
   "execution_count": 108,
   "id": "64a1fbd0-f35e-49cd-8fa4-51ab90fffacc",
   "metadata": {},
   "outputs": [
    {
     "data": {
      "text/html": [
       "<div>\n",
       "<style scoped>\n",
       "    .dataframe tbody tr th:only-of-type {\n",
       "        vertical-align: middle;\n",
       "    }\n",
       "\n",
       "    .dataframe tbody tr th {\n",
       "        vertical-align: top;\n",
       "    }\n",
       "\n",
       "    .dataframe thead th {\n",
       "        text-align: right;\n",
       "    }\n",
       "</style>\n",
       "<table border=\"1\" class=\"dataframe\">\n",
       "  <thead>\n",
       "    <tr style=\"text-align: right;\">\n",
       "      <th></th>\n",
       "      <th>sample</th>\n",
       "    </tr>\n",
       "  </thead>\n",
       "  <tbody>\n",
       "    <tr>\n",
       "      <th>0</th>\n",
       "      <td>3.6</td>\n",
       "    </tr>\n",
       "    <tr>\n",
       "      <th>1</th>\n",
       "      <td>2.9</td>\n",
       "    </tr>\n",
       "    <tr>\n",
       "      <th>2</th>\n",
       "      <td>2.8</td>\n",
       "    </tr>\n",
       "    <tr>\n",
       "      <th>3</th>\n",
       "      <td>2.6</td>\n",
       "    </tr>\n",
       "    <tr>\n",
       "      <th>4</th>\n",
       "      <td>3.4</td>\n",
       "    </tr>\n",
       "  </tbody>\n",
       "</table>\n",
       "</div>"
      ],
      "text/plain": [
       "   sample\n",
       "0     3.6\n",
       "1     2.9\n",
       "2     2.8\n",
       "3     2.6\n",
       "4     3.4"
      ]
     },
     "execution_count": 108,
     "metadata": {},
     "output_type": "execute_result"
    }
   ],
   "source": [
    "# 구간 추정 연습\n",
    "\n",
    "# df 직접 입력\n",
    "df = pd.DataFrame({\"sample\":[3.6,2.9,2.8 ,2.6 , 3.4 , 3.2 , 2.2 , 2.6 , 2.4 ,\n",
    "                            2.4, 2.6 , 3.4 , 2.4 , 2.1, 2.6 ,3.0 ,2.4 ,2.7 , 2.4,\n",
    "                            2.6,2.9 ,2.9, 2.0,2.7,2.2,2.8,2.7,1.8,2.5,\n",
    "                            3.0,3.2,2.8,2.6,3.2,3.1,2.9, 2.7,2.7, 2.2]})\n",
    "df.head()"
   ]
  },
  {
   "cell_type": "code",
   "execution_count": 110,
   "id": "654ab6c8-0c89-4fad-85cd-2cf4284b790a",
   "metadata": {},
   "outputs": [
    {
     "name": "stdout",
     "output_type": "stream",
     "text": [
      "신뢰구간:(2.57,2.82)\n"
     ]
    }
   ],
   "source": [
    "# 정규분포 구간 추정 함수 실행\n",
    "lower,upper = stats.norm.interval(0.95, loc=np.mean(df),scale = 0.397/np.sqrt(40))\n",
    "print(\"신뢰구간:({0},{1})\" .format(lower.round(2),upper.round(2)))"
   ]
  },
  {
   "cell_type": "code",
   "execution_count": 116,
   "id": "e403ec7b-97cb-4d51-bee4-065617fd660c",
   "metadata": {},
   "outputs": [
    {
     "data": {
      "text/html": [
       "<div>\n",
       "<style scoped>\n",
       "    .dataframe tbody tr th:only-of-type {\n",
       "        vertical-align: middle;\n",
       "    }\n",
       "\n",
       "    .dataframe tbody tr th {\n",
       "        vertical-align: top;\n",
       "    }\n",
       "\n",
       "    .dataframe thead th {\n",
       "        text-align: right;\n",
       "    }\n",
       "</style>\n",
       "<table border=\"1\" class=\"dataframe\">\n",
       "  <thead>\n",
       "    <tr style=\"text-align: right;\">\n",
       "      <th></th>\n",
       "      <th>sample</th>\n",
       "    </tr>\n",
       "  </thead>\n",
       "  <tbody>\n",
       "    <tr>\n",
       "      <th>0</th>\n",
       "      <td>18</td>\n",
       "    </tr>\n",
       "    <tr>\n",
       "      <th>1</th>\n",
       "      <td>18</td>\n",
       "    </tr>\n",
       "    <tr>\n",
       "      <th>2</th>\n",
       "      <td>20</td>\n",
       "    </tr>\n",
       "    <tr>\n",
       "      <th>3</th>\n",
       "      <td>21</td>\n",
       "    </tr>\n",
       "    <tr>\n",
       "      <th>4</th>\n",
       "      <td>20</td>\n",
       "    </tr>\n",
       "  </tbody>\n",
       "</table>\n",
       "</div>"
      ],
      "text/plain": [
       "   sample\n",
       "0      18\n",
       "1      18\n",
       "2      20\n",
       "3      21\n",
       "4      20"
      ]
     },
     "execution_count": 116,
     "metadata": {},
     "output_type": "execute_result"
    }
   ],
   "source": [
    "# df 직접 입력\n",
    "df = pd.DataFrame({\"sample\":[18,18,20,21,20,23,19,18,17,21,22,\n",
    "                             20,20,21,20,19,19,18,17,19]})\n",
    "df.head()"
   ]
  },
  {
   "cell_type": "code",
   "execution_count": 118,
   "id": "bcad684f-3079-412e-8c60-e3d958ee78ff",
   "metadata": {},
   "outputs": [
    {
     "name": "stdout",
     "output_type": "stream",
     "text": [
      "신뢰구간:(17.83,21.17)\n"
     ]
    }
   ],
   "source": [
    "# 정규분포 구간 추정 함수 실행\n",
    "lower,upper = stats.norm.interval(0.95, loc=np.mean(df),scale = 3.8/np.sqrt(20))\n",
    "print(\"신뢰구간:({0},{1})\" .format(lower.round(2),upper.round(2)))"
   ]
  },
  {
   "cell_type": "code",
   "execution_count": 122,
   "id": "67a4d695-7379-4cc7-bf74-ffef243aed5a",
   "metadata": {},
   "outputs": [
    {
     "name": "stdout",
     "output_type": "stream",
     "text": [
      "신뢰구간:([54.39],[55.33]\n"
     ]
    }
   ],
   "source": [
    "df = pd.DataFrame({'sample': [54.1,53.3,56.1,55.7,54.0,54.1,54.5,57.1,55.2,53.8,\n",
    "                             54.1,54.1,56.1,55.0,55.9,56.0,54.9,54.3,53.9,55.0]})\n",
    "\n",
    "lower,upper = stats.t.interval(0.95,len(df)-1,loc=np.mean(df),scale = stats.sem(df))\n",
    "print(\"신뢰구간:({0},{1}\".format(lower.round(2),upper.round(2)))"
   ]
  },
  {
   "cell_type": "code",
   "execution_count": 124,
   "id": "0f134e76-be32-4367-b268-48b9e3b7b0db",
   "metadata": {},
   "outputs": [
    {
     "name": "stdout",
     "output_type": "stream",
     "text": [
      "신뢰구간:([70.6],[72.4]\n"
     ]
    }
   ],
   "source": [
    "# 150p\n",
    "# 제품개발자는 새로개발된 강종의 평균 인장강도를 70kg/mm^2으로 기대하고 있음.\n",
    "# 이를 검증하기 위해 시험 생산되는 강종 중 임의로 20개의 코일을 대상으로 랜덤하게 시편을 채취하였음\n",
    "# 상기자료로부터 표분 평균은 71.50kg/mm^2 , 표본표준편차는 1.933kg/mm^2임을 알았음\n",
    "# 이 모평균값의 95% 신뢰구간을 추정하시오.\n",
    "df = pd.DataFrame({'sample': [73,71,74,69,70,73,70,68,75,72,\n",
    "                             70,72,73,70,70,72,71,70,75,72]})\n",
    "\n",
    "lower,upper = stats.t.interval(0.95,len(df)-1,loc=np.mean(df),scale = stats.sem(df))\n",
    "print(\"신뢰구간:({0},{1}\".format(lower.round(2),upper.round(2)))"
   ]
  },
  {
   "cell_type": "markdown",
   "id": "702bf454-73ad-40a8-892a-e28a8d338c8b",
   "metadata": {},
   "source": [
    "## 유의수준 , 임계값 설명\n",
    "임계값(Critical Value)과 유의수준(Significance Level)은 통계적 가설 검정에서 중요한 개념입니다. 두 개념은 서로 밀접하게 관련되어 있지만, 의미와 사용 방법에 차이가 있습니다."
   ]
  },
  {
   "cell_type": "markdown",
   "id": "888b0f9a-4607-4cdb-93bb-317e6e405ffc",
   "metadata": {},
   "source": [
    "## 유의수준 (Significance Level, 𝛼)\n",
    "- 1) 정의: 유의수준은 귀무가설이 참일 때, 귀무가설을 기각할 확률을 의미합니다. 즉, 제1종 오류를 범할 확률입니다.\n",
    "- 2) 일반적인 값: 통상적으로 0.05(5%) 또는 0.01(1%)가 많이 사용됩니다.\n",
    "- 3) 역할: 유의수준은 임계값을 결정하는 데 사용됩니다. 가설 검정에서 관측된 통계량이 임계값보다 극단적인 경우, 귀무가설을 기각하게 됩니다.\n",
    "- 4) 표현: 𝛼로 표기하며, 검정에서 \"이 정도의 확률로 귀무가설을 기각하겠다\"는 기준입니다."
   ]
  },
  {
   "cell_type": "markdown",
   "id": "6a21b6b3-74ec-40d6-ba52-fa492e98fc0c",
   "metadata": {},
   "source": [
    "## 임계값 (Critical Value)\n",
    "\n",
    "- 1) 정의: 임계값은 주어진 유의수준 𝛼에서 귀무가설을 기각할 경계 값을 의미합니다.\n",
    "- 2) 결정 방법: 유의수준 𝛼에 따라 분포의 해당하는 값을 찾습니다. 예를 들어, 유의수준 𝛼=0.05 ,α=0.05라면, 정규분포의 경우 양측 검정에서 상위 2.5%와 하위 2.5%에 해당하는 값이 임계값이 됩니다.\n",
    "- 3) 역할: 관측된 통계량이 이 임계값을 벗어나면 귀무가설을 기각합니다. 즉, 임계값은 기각역을 설정하는 데 사용됩니다.\n",
    "- 4) 표현: 특정 검정 방법과 분포에 따라 달라집니다. 예를 들어, 정규분포에서는 𝑍-값, t-분포에서는 𝑡-값, 카이제곱 분포에서는 𝜒2-값 등을 임계값으로 사용합니다."
   ]
  },
  {
   "cell_type": "markdown",
   "id": "04f95799-a98d-4b5e-945d-37e0ed83ec20",
   "metadata": {},
   "source": [
    "## 예제: 정규분포를 이용한 가설 검정\n",
    "- 1) 유의수준 설정: a =0.05 (5%)\n",
    "- 2) 임계값 결정: 유의수준 𝛼에 따라 정규분포의 양 끝 2.5% 부분에 해당하는 임계값은 약 ± 1.96 입니다 (양측 검정의 경우).\n",
    "- 3) 검정 통계량 계산: 예를 들어, 표본 평균을 이용해  𝑍-값을 계산합니다.\n",
    "- 4) 결정: 계산된 𝑍-값이 −1.96보다 작거나 1.96보다 크면, 귀무가설을 기각합니다. 그렇지 않으면 귀무가설을 기각하지 않습니다.\n",
    "- 요약\n",
    "유의수준 (𝛼): 가설 검정에서 허용하는 제1종 오류의 확률. 통상적으로 0.05 또는 0.01을 사용합니다.\n",
    "임계값: 주어진 유의수준에 따라 결정되며, 관측된 통계량이 이 값을 벗어날 경우 귀무가설을 기각합니다.\n",
    "두 개념은 통계적 가설 검정에서 중요한 역할을 하며, 유의수준이 임계값을 결정하는 데 사용됩니다."
   ]
  },
  {
   "cell_type": "code",
   "execution_count": 139,
   "id": "345af424-0012-49af-94df-2acac52930f8",
   "metadata": {},
   "outputs": [
    {
     "data": {
      "text/html": [
       "<div>\n",
       "<style scoped>\n",
       "    .dataframe tbody tr th:only-of-type {\n",
       "        vertical-align: middle;\n",
       "    }\n",
       "\n",
       "    .dataframe tbody tr th {\n",
       "        vertical-align: top;\n",
       "    }\n",
       "\n",
       "    .dataframe thead th {\n",
       "        text-align: right;\n",
       "    }\n",
       "</style>\n",
       "<table border=\"1\" class=\"dataframe\">\n",
       "  <thead>\n",
       "    <tr style=\"text-align: right;\">\n",
       "      <th></th>\n",
       "      <th>Length</th>\n",
       "      <th>Supp1</th>\n",
       "      <th>Supp2</th>\n",
       "    </tr>\n",
       "  </thead>\n",
       "  <tbody>\n",
       "    <tr>\n",
       "      <th>0</th>\n",
       "      <td>601.4</td>\n",
       "      <td>598.0</td>\n",
       "      <td>601.6</td>\n",
       "    </tr>\n",
       "    <tr>\n",
       "      <th>1</th>\n",
       "      <td>601.6</td>\n",
       "      <td>599.8</td>\n",
       "      <td>600.4</td>\n",
       "    </tr>\n",
       "    <tr>\n",
       "      <th>2</th>\n",
       "      <td>598.0</td>\n",
       "      <td>600.0</td>\n",
       "      <td>598.4</td>\n",
       "    </tr>\n",
       "    <tr>\n",
       "      <th>3</th>\n",
       "      <td>601.4</td>\n",
       "      <td>599.8</td>\n",
       "      <td>600.0</td>\n",
       "    </tr>\n",
       "    <tr>\n",
       "      <th>4</th>\n",
       "      <td>599.4</td>\n",
       "      <td>600.0</td>\n",
       "      <td>596.8</td>\n",
       "    </tr>\n",
       "  </tbody>\n",
       "</table>\n",
       "</div>"
      ],
      "text/plain": [
       "   Length  Supp1  Supp2\n",
       "0   601.4  598.0  601.6\n",
       "1   601.6  599.8  600.4\n",
       "2   598.0  600.0  598.4\n",
       "3   601.4  599.8  600.0\n",
       "4   599.4  600.0  596.8"
      ]
     },
     "execution_count": 139,
     "metadata": {},
     "output_type": "execute_result"
    }
   ],
   "source": [
    "# 정규성 검정 연습\n",
    "\n",
    "df = pd.read_csv('data/camshaft.csv')\n",
    "df.head()"
   ]
  },
  {
   "cell_type": "code",
   "execution_count": 141,
   "id": "80b4929b-3196-4140-a1da-2449e984fb0a",
   "metadata": {},
   "outputs": [
    {
     "ename": "TypeError",
     "evalue": "'float' object is not callable",
     "output_type": "error",
     "traceback": [
      "\u001b[1;31m---------------------------------------------------------------------------\u001b[0m",
      "\u001b[1;31mTypeError\u001b[0m                                 Traceback (most recent call last)",
      "Cell \u001b[1;32mIn[141], line 2\u001b[0m\n\u001b[0;32m      1\u001b[0m statistic, p \u001b[38;5;241m=\u001b[39mstats\u001b[38;5;241m.\u001b[39mshapiro(df[\u001b[38;5;124m'\u001b[39m\u001b[38;5;124mSupp1\u001b[39m\u001b[38;5;124m'\u001b[39m])\n\u001b[1;32m----> 2\u001b[0m statistic, p ( \u001b[38;5;241m0.9788166284561157\u001b[39m,\u001b[38;5;241m0.1074606254696846\u001b[39m)\n\u001b[0;32m      4\u001b[0m \u001b[38;5;28mprint\u001b[39m(\u001b[38;5;124m\"\u001b[39m\u001b[38;5;124mShapiro-Wilk Test: statistic=\u001b[39m\u001b[38;5;132;01m{}\u001b[39;00m\u001b[38;5;124m,p-value\u001b[39m\u001b[38;5;132;01m{}\u001b[39;00m\u001b[38;5;124m\"\u001b[39m\u001b[38;5;241m.\u001b[39mformat(statistic,p))\n",
      "\u001b[1;31mTypeError\u001b[0m: 'float' object is not callable"
     ]
    }
   ],
   "source": [
    "statistic, p =stats.shapiro(df['Supp1'])\n",
    "statistic, p ( 0.9788166284561157,0.1074606254696846)\n",
    "\n",
    "print(\"Shapiro-Wilk Test: statistic={},p-value{}\".format(statistic,p))"
   ]
  },
  {
   "cell_type": "code",
   "execution_count": 143,
   "id": "3fefe32f-1e6e-42f1-9b2f-45ad42770d9d",
   "metadata": {},
   "outputs": [
    {
     "name": "stdout",
     "output_type": "stream",
     "text": [
      "Shapiro-Wilk Test: statistic=0.9788166284561157, p-value=0.1074606254696846\n"
     ]
    }
   ],
   "source": [
    "import pandas as pd\n",
    "from scipy import stats\n",
    "\n",
    "# 데이터프레임 예시\n",
    "\n",
    "\n",
    "# Shapiro-Wilk 검정 수행\n",
    "statistic, p = stats.shapiro(df['Supp1'])\n",
    "\n",
    "# 결과 출력\n",
    "print(\"Shapiro-Wilk Test: statistic={}, p-value={}\".format(statistic, p))\n"
   ]
  },
  {
   "cell_type": "code",
   "execution_count": 147,
   "id": "82712c6a-0328-4511-8682-7d6ad5a36826",
   "metadata": {},
   "outputs": [
    {
     "name": "stdout",
     "output_type": "stream",
     "text": [
      "Shapiro-Wilk Test: statistic=nan, p-value=1.0\n"
     ]
    }
   ],
   "source": [
    "df = pd.read_csv('data/2sample_t_test.csv')\n",
    "\n",
    "statistic, p = stats.shapiro(df['Mat_A'])\n",
    "\n",
    "# 결과 출력\n",
    "print(\"Shapiro-Wilk Test: statistic={}, p-value={}\".format(statistic, p))\n"
   ]
  },
  {
   "cell_type": "code",
   "execution_count": 149,
   "id": "bdaa2efd-592f-4590-8d26-bc6fdaff126a",
   "metadata": {},
   "outputs": [
    {
     "name": "stdout",
     "output_type": "stream",
     "text": [
      "Shapiro-Wilk Test: statistic=nan, p-value=1.0\n"
     ]
    }
   ],
   "source": [
    "statistic, p = stats.shapiro(df['Mat_B'])\n",
    "\n",
    "# 결과 출력\n",
    "print(\"Shapiro-Wilk Test: statistic={}, p-value={}\".format(statistic, p))"
   ]
  },
  {
   "cell_type": "code",
   "execution_count": 151,
   "id": "2a4502b7-85b7-4a0f-aa0c-84c23b0fadcb",
   "metadata": {},
   "outputs": [
    {
     "data": {
      "text/html": [
       "<div>\n",
       "<style scoped>\n",
       "    .dataframe tbody tr th:only-of-type {\n",
       "        vertical-align: middle;\n",
       "    }\n",
       "\n",
       "    .dataframe tbody tr th {\n",
       "        vertical-align: top;\n",
       "    }\n",
       "\n",
       "    .dataframe thead th {\n",
       "        text-align: right;\n",
       "    }\n",
       "</style>\n",
       "<table border=\"1\" class=\"dataframe\">\n",
       "  <thead>\n",
       "    <tr style=\"text-align: right;\">\n",
       "      <th></th>\n",
       "      <th>Mat_A</th>\n",
       "      <th>Mat_B</th>\n",
       "      <th>Total</th>\n",
       "      <th>Sub</th>\n",
       "    </tr>\n",
       "  </thead>\n",
       "  <tbody>\n",
       "    <tr>\n",
       "      <th>0</th>\n",
       "      <td>73.4</td>\n",
       "      <td>68.7</td>\n",
       "      <td>73.4</td>\n",
       "      <td>1</td>\n",
       "    </tr>\n",
       "    <tr>\n",
       "      <th>1</th>\n",
       "      <td>77.0</td>\n",
       "      <td>71.4</td>\n",
       "      <td>77.0</td>\n",
       "      <td>1</td>\n",
       "    </tr>\n",
       "    <tr>\n",
       "      <th>2</th>\n",
       "      <td>73.7</td>\n",
       "      <td>69.8</td>\n",
       "      <td>73.7</td>\n",
       "      <td>1</td>\n",
       "    </tr>\n",
       "    <tr>\n",
       "      <th>3</th>\n",
       "      <td>73.3</td>\n",
       "      <td>75.3</td>\n",
       "      <td>73.3</td>\n",
       "      <td>1</td>\n",
       "    </tr>\n",
       "    <tr>\n",
       "      <th>4</th>\n",
       "      <td>73.1</td>\n",
       "      <td>71.3</td>\n",
       "      <td>73.1</td>\n",
       "      <td>1</td>\n",
       "    </tr>\n",
       "  </tbody>\n",
       "</table>\n",
       "</div>"
      ],
      "text/plain": [
       "   Mat_A  Mat_B  Total  Sub\n",
       "0   73.4   68.7   73.4    1\n",
       "1   77.0   71.4   77.0    1\n",
       "2   73.7   69.8   73.7    1\n",
       "3   73.3   75.3   73.3    1\n",
       "4   73.1   71.3   73.1    1"
      ]
     },
     "execution_count": 151,
     "metadata": {},
     "output_type": "execute_result"
    }
   ],
   "source": [
    "df.head()"
   ]
  },
  {
   "cell_type": "code",
   "execution_count": 153,
   "id": "b9154769-a800-4555-a6ac-e66e964f183a",
   "metadata": {},
   "outputs": [],
   "source": [
    "df.dropna(inplace=True)"
   ]
  },
  {
   "cell_type": "code",
   "execution_count": 155,
   "id": "5ca088b9-a987-4afc-a641-6c9911502dde",
   "metadata": {},
   "outputs": [
    {
     "name": "stdout",
     "output_type": "stream",
     "text": [
      "Shapiro-Wilk Test: statistic=0.906264066696167, p-value=0.2563020884990692\n"
     ]
    }
   ],
   "source": [
    "statistic, p = stats.shapiro(df['Mat_A'])\n",
    "\n",
    "# 결과 출력\n",
    "print(\"Shapiro-Wilk Test: statistic={}, p-value={}\".format(statistic, p))\n"
   ]
  },
  {
   "cell_type": "code",
   "execution_count": 157,
   "id": "5bf8e324-0674-432a-b8f6-c5de5fac199a",
   "metadata": {},
   "outputs": [
    {
     "name": "stdout",
     "output_type": "stream",
     "text": [
      "Shapiro-Wilk Test: statistic=0.9729753732681274, p-value=0.9169775247573853\n"
     ]
    }
   ],
   "source": [
    "statistic, p = stats.shapiro(df['Mat_B'])\n",
    "\n",
    "# 결과 출력\n",
    "print(\"Shapiro-Wilk Test: statistic={}, p-value={}\".format(statistic, p))"
   ]
  },
  {
   "cell_type": "markdown",
   "id": "7d478ec4-0e91-49a9-b6c4-b9923af9adb6",
   "metadata": {},
   "source": [
    "## 연습\n",
    "고객 서비스센터의 고객 만족도 평균은 76.7이다 -> 귀무가설\n",
    "개선 활동을 완료한 후 다음과 같은 10개의 고객 만족도 데이터를 얻었다. ->정규성 검정\n",
    "개선활동이 만족도를 변화 시켰는가? 유의가설(a=0.05)"
   ]
  },
  {
   "cell_type": "code",
   "execution_count": 160,
   "id": "bd56a4f4-0101-47cc-b4c6-3a62ea251a7e",
   "metadata": {},
   "outputs": [
    {
     "data": {
      "text/plain": [
       "<Axes: >"
      ]
     },
     "execution_count": 160,
     "metadata": {},
     "output_type": "execute_result"
    },
    {
     "data": {
      "image/png": "[encoded data removed]",
      "text/plain": [
       "<Figure size 640x480 with 1 Axes>"
      ]
     },
     "metadata": {},
     "output_type": "display_data"
    }
   ],
   "source": [
    "# 1sample t-test 연습\n",
    "df = pd.DataFrame({'satisfaction':[74.5,81.2,73.8,82.0,76.3,75.7,80.2,72.6,77.9,82.8]})\n",
    "\n",
    "df.boxplot()"
   ]
  },
  {
   "cell_type": "code",
   "execution_count": 164,
   "id": "c2c7845b-2162-469b-a011-0b5927c3d009",
   "metadata": {},
   "outputs": [
    {
     "name": "stdout",
     "output_type": "stream",
     "text": [
      "statistic=0.9331594705581665, p-value=0.4796782433986664\n"
     ]
    }
   ],
   "source": [
    "# satisfaction 정규성 검정\n",
    "statistic, p = stats.shapiro(df['satisfaction'])\n",
    "print(\"statistic={}, p-value={}\".format(statistic,p))"
   ]
  },
  {
   "cell_type": "code",
   "execution_count": 166,
   "id": "a94be93d-bb52-4351-a20c-13380e6609f5",
   "metadata": {},
   "outputs": [],
   "source": [
    "# 1-Sample t-test\n",
    "t_result = stats.ttest_1samp(df,76.7)"
   ]
  },
  {
   "cell_type": "code",
   "execution_count": 168,
   "id": "4d709f11-652a-4952-8f96-98987567c7fa",
   "metadata": {},
   "outputs": [],
   "source": [
    "# 1-sample t-test의 t값 p 값 저장\n",
    "t,p= t_result.statistic.round(3),\\\n",
    "    t_result.pvalue.round(3)"
   ]
  },
  {
   "cell_type": "code",
   "execution_count": 170,
   "id": "ef1bb8eb-bebb-4c7f-9995-9768846fdd36",
   "metadata": {},
   "outputs": [
    {
     "name": "stdout",
     "output_type": "stream",
     "text": [
      "1-Sample t -test\n",
      " t-통계량 : [0.864]\n",
      " p-value : [0.41]\n"
     ]
    }
   ],
   "source": [
    "# 1-sample t-test의 t 값 p 값 출력\n",
    "print(\"1-Sample t -test\")\n",
    "print(\" t-통계량 : {}\".format(t))\n",
    "print(\" p-value : {}\".format(p))"
   ]
  },
  {
   "cell_type": "markdown",
   "id": "ddc31735-9997-4222-81e3-f13360cccc47",
   "metadata": {},
   "source": [
    "## 실습\n",
    "고객 서비스센터의 고객 만족도 평균은 78.0이다 -> 귀무가설\n",
    "개선활동을 완료한 후 다음과 같은 10개의 고객 만족도 데이터를 얻었다 -> 정규성 검정\n",
    "개선 활동이 만족도를 변화 시켰는가? 유의수준(a=0.05)"
   ]
  },
  {
   "cell_type": "code",
   "execution_count": 173,
   "id": "e0a819ba-a4ee-4e57-ad9a-0583fde9c9fc",
   "metadata": {},
   "outputs": [
    {
     "data": {
      "text/plain": [
       "<Axes: >"
      ]
     },
     "execution_count": 173,
     "metadata": {},
     "output_type": "execute_result"
    },
    {
     "data": {
      "image/png": "[encoded data removed]",
      "text/plain": [
       "<Figure size 640x480 with 1 Axes>"
      ]
     },
     "metadata": {},
     "output_type": "display_data"
    }
   ],
   "source": [
    "# 1sample t-test 연습\n",
    "df = pd.DataFrame({'satisfaction':[85.0,79.0,79.1,79.9,81.6,78.6,85.4,83.4,78.1,79.2]})\n",
    "\n",
    "df.boxplot()"
   ]
  },
  {
   "cell_type": "code",
   "execution_count": 175,
   "id": "a8936e56-8e63-4c05-9bee-d9ff99fe16dd",
   "metadata": {},
   "outputs": [],
   "source": [
    "# 1-Sample t-test\n",
    "t_result = stats.ttest_1samp(df,78.0)"
   ]
  },
  {
   "cell_type": "code",
   "execution_count": 177,
   "id": "2b261cde-222f-43ab-971f-ee64b8247950",
   "metadata": {},
   "outputs": [
    {
     "name": "stdout",
     "output_type": "stream",
     "text": [
      "1-Sample t -test\n",
      " t-통계량 : [3.379]\n",
      " p-value : [0.008]\n"
     ]
    }
   ],
   "source": [
    "# 1-sample t-test의 t값 p 값 저장\n",
    "t,p= t_result.statistic.round(3),\\\n",
    "    t_result.pvalue.round(3)\n",
    "# 1-sample t-test의 t 값 p 값 출력\n",
    "print(\"1-Sample t -test\")\n",
    "print(\" t-통계량 : {}\".format(t))\n",
    "print(\" p-value : {}\".format(p))"
   ]
  },
  {
   "cell_type": "markdown",
   "id": "4ae1a40a-5796-4794-be6d-dc1cbb682fe8",
   "metadata": {},
   "source": [
    "## 2 sample t-test 연습\n",
    "고객만족도 확인을 위하여 A 고객과 B 고객에 대해 Survey하여 다음의 데이터를 얻었다.\n",
    "A 고객과 B고객의 모평균차이가 있다고 할 수 있는가? -> 귀무가설 (유의수준 a =0.05)\n",
    "- 데이터(10점 척도 , n=20)"
   ]
  },
  {
   "cell_type": "code",
   "execution_count": 180,
   "id": "bc9fdf78-2d78-41cd-a284-6839ada2ba3f",
   "metadata": {},
   "outputs": [
    {
     "data": {
      "image/png": "[encoded data removed]",
      "text/plain": [
       "<Figure size 640x480 with 1 Axes>"
      ]
     },
     "metadata": {},
     "output_type": "display_data"
    }
   ],
   "source": [
    "df = pd.DataFrame({'A':[6,5,5,4,6,7,6,4,5,6,4,5,5,6,4,8,6,5,6,7],\n",
    "                  'B':[7,6,7,8,7,8,8,5,7,6,5,5,6,6,5,7,9,7,7,8]})\n",
    "# 그룹 별 boxplot\n",
    "df.boxplot(['A','B'])\n",
    "plt.show()"
   ]
  },
  {
   "cell_type": "code",
   "execution_count": 182,
   "id": "33e4ac2b-48cf-4ba1-897f-cdf406062993",
   "metadata": {},
   "outputs": [
    {
     "name": "stdout",
     "output_type": "stream",
     "text": [
      "statistic=0.9094840288162231, p-value=0.06230909377336502\n"
     ]
    }
   ],
   "source": [
    "# 'A','B' 정규성-검정 : Shapiro-Wilk Test\n",
    "statistic,p = stats.shapiro(df['A'])\n",
    "print(\"statistic={}, p-value={}\".format(statistic,p))"
   ]
  },
  {
   "cell_type": "code",
   "execution_count": 184,
   "id": "d9acaaed-38c9-40ac-b2e2-57012d251543",
   "metadata": {},
   "outputs": [
    {
     "name": "stdout",
     "output_type": "stream",
     "text": [
      "statistic=0.914249062538147, p-value=0.07683517038822174\n"
     ]
    }
   ],
   "source": [
    "statistic,p = stats.shapiro(df['B'])\n",
    "print(\"statistic={}, p-value={}\".format(statistic,p))"
   ]
  },
  {
   "cell_type": "code",
   "execution_count": 186,
   "id": "6bdec023-6d9c-494e-adf0-ca2e29f74782",
   "metadata": {},
   "outputs": [
    {
     "data": {
      "text/plain": [
       "BartlettResult(statistic=0.0784806443146898, pvalue=0.7793670509889603)"
      ]
     },
     "execution_count": 186,
     "metadata": {},
     "output_type": "execute_result"
    }
   ],
   "source": [
    "# 등분산성 검정\n",
    "stats.bartlett(df['A'],df['B'])"
   ]
  },
  {
   "cell_type": "code",
   "execution_count": 190,
   "id": "fdae051f-771e-4604-9ec7-e275c1533263",
   "metadata": {},
   "outputs": [],
   "source": [
    "# 2-Sample t-test\n",
    "t_result =stats.ttest_ind(df['A'],df['B'])\n",
    "\n",
    "# 2-sample t-test 의 값 p 값 저장\n",
    "t,p = t_result.statistic.round(3),t_result.pvalue.round(3)\n",
    "\n"
   ]
  },
  {
   "cell_type": "code",
   "execution_count": 194,
   "id": "b9c33701-5ba8-4f1a-b7a2-ead77b08aca6",
   "metadata": {},
   "outputs": [
    {
     "name": "stdout",
     "output_type": "stream",
     "text": [
      "2-Sample t -test\n",
      " t-통계량 : -3.335\n",
      " p-value : 0.002\n"
     ]
    }
   ],
   "source": [
    "# 2-Sample t-test 의 t값 p 값 출력\n",
    "print(\"2-Sample t -test\")\n",
    "print(\" t-통계량 : {}\".format(t))\n",
    "print(\" p-value : {}\".format(p))\n",
    "\n",
    "# p값이 0.002 이므로 모평균에 차이가 있고\n",
    "# 검정 통계량이 음수라서 B 고객의 모평균이 더 크다"
   ]
  },
  {
   "cell_type": "markdown",
   "id": "7caea76b-4815-47c8-b35a-857d5e54c778",
   "metadata": {},
   "source": [
    "## 2-sample t-test 실습\n",
    "제품을 A 공급자과 B 공급자로 부터 제품을 받아 두께를 측정해서 다음의 데이터를 얻었다.\n",
    "공급자 간에 모평균에 차이가 있다고 할수 있는가? -> 귀무가설 (유의수준 a= 0.05)\n",
    "\n"
   ]
  },
  {
   "cell_type": "code",
   "execution_count": 197,
   "id": "e7d67c92-d1b5-4921-8a75-42070a779046",
   "metadata": {},
   "outputs": [
    {
     "data": {
      "image/png": "[encoded data removed]",
      "text/plain": [
       "<Figure size 640x480 with 1 Axes>"
      ]
     },
     "metadata": {},
     "output_type": "display_data"
    }
   ],
   "source": [
    "df = pd.DataFrame({'A':[1.833,1.715,1.799,1.768,1.711,1.832,1.427,1.344],\n",
    "                  'B':[1.435,1.572,1.486,1.511,1.457,1.548,1.404,1.800]})\n",
    "# 그룹 별 boxplot\n",
    "df.boxplot(['A','B'])\n",
    "plt.show()\n"
   ]
  },
  {
   "cell_type": "code",
   "execution_count": 199,
   "id": "2b65a7b9-dd93-4bcd-abac-5dea13fc1e71",
   "metadata": {},
   "outputs": [
    {
     "name": "stdout",
     "output_type": "stream",
     "text": [
      "statistic=0.7907294034957886, p-value=0.02275930531322956\n"
     ]
    }
   ],
   "source": [
    "# 'A','B' 정규성-검정 : Shapiro-Wilk Test\n",
    "statistic,p = stats.shapiro(df['A'])\n",
    "print(\"statistic={}, p-value={}\".format(statistic,p))"
   ]
  },
  {
   "cell_type": "code",
   "execution_count": 201,
   "id": "8b27359d-aece-4a6c-be2c-2b315476bad0",
   "metadata": {},
   "outputs": [
    {
     "name": "stdout",
     "output_type": "stream",
     "text": [
      "statistic=0.8393934369087219, p-value=0.07424874603748322\n"
     ]
    }
   ],
   "source": [
    "statistic,p = stats.shapiro(df['B'])\n",
    "print(\"statistic={}, p-value={}\".format(statistic,p))"
   ]
  },
  {
   "cell_type": "code",
   "execution_count": 203,
   "id": "543ebde4-045f-42fc-a929-f5d972578e08",
   "metadata": {},
   "outputs": [
    {
     "data": {
      "text/plain": [
       "BartlettResult(statistic=1.1061553506685082, pvalue=0.2929192195141279)"
      ]
     },
     "execution_count": 203,
     "metadata": {},
     "output_type": "execute_result"
    }
   ],
   "source": [
    "# 등분산성 검정\n",
    "stats.bartlett(df['A'],df['B'])"
   ]
  },
  {
   "cell_type": "code",
   "execution_count": 205,
   "id": "4b7f7d5d-9b0d-4d4b-bab9-53a9d7695fc6",
   "metadata": {},
   "outputs": [
    {
     "name": "stdout",
     "output_type": "stream",
     "text": [
      "2-Sample t -test\n",
      " t-통계량 : 1.909\n",
      " p-value : 0.077\n"
     ]
    }
   ],
   "source": [
    "# 2-Sample t-test\n",
    "t_result =stats.ttest_ind(df['A'],df['B'])\n",
    "\n",
    "# 2-sample t-test 의 값 p 값 저장\n",
    "t,p = t_result.statistic.round(3),t_result.pvalue.round(3)\n",
    "\n",
    "\n",
    "# 2-Sample t-test 의 t값 p 값 출력\n",
    "print(\"2-Sample t -test\")\n",
    "print(\" t-통계량 : {}\".format(t))\n",
    "print(\" p-value : {}\".format(p))\n",
    "\n",
    "# p값이 0.077 이므로 대립가설 채택\n",
    "# 검정 통계량이 양수라서 A 고객의 모평균이 더 크다"
   ]
  },
  {
   "cell_type": "markdown",
   "id": "338d6ae3-dbaf-484f-88b0-c5e063ade4a1",
   "metadata": {},
   "source": [
    "## Pired t-test 연습\n",
    "회사원 10명에 대해 영어 점수가 학원가기 전/후에 영어점수가 짝을 이루고 있다.\n",
    "회사원들의 성적은 학원가기 전후에 대해 차이가 있는지 검정하라 (유의수준 a=0.05)"
   ]
  },
  {
   "cell_type": "code",
   "execution_count": 210,
   "id": "79a46a3f-98d8-4b99-ac14-9055d55cf599",
   "metadata": {},
   "outputs": [],
   "source": [
    "df1 = pd.DataFrame({'before':[720,589,780,648,720,589,780,648,780,648],\n",
    "                   })\n",
    "df2 = pd.DataFrame({'after':[810,670,790,712,810,670,790,712,790,712]})\n",
    "\n",
    "# Pared t-test\n",
    "t_result = stats.ttest_rel(df1,df2)\n",
    "\n",
    "# Paired t-test의 t값 p 값 저장\n",
    "t,p = t_result.statistic.round(3),t_result.pvalue.round(3)"
   ]
  },
  {
   "cell_type": "code",
   "execution_count": 212,
   "id": "6d50426c-b1b3-4725-9da9-049de8a887ff",
   "metadata": {},
   "outputs": [
    {
     "name": "stdout",
     "output_type": "stream",
     "text": [
      "Paired t -test\n",
      " t-통계량 : [-5.324]\n",
      " p-value : [0.]\n"
     ]
    }
   ],
   "source": [
    "# Pared t-test\n",
    "t_result = stats.ttest_rel(df1,df2)\n",
    "\n",
    "# Paired t-test의 t값 p 값 저장\n",
    "t,p = t_result.statistic.round(3),t_result.pvalue.round(3)\n",
    "# Paired t-test 의 t값 p 값 출력\n",
    "print(\"Paired t -test\")\n",
    "print(\" t-통계량 : {}\".format(t))\n",
    "print(\" p-value : {}\".format(p))\n",
    "\n",
    "# p값이 0이므로 회사원들의 성적은 학원가기 전후에 대해 차이가 없다. 대립가설\n",
    "# 검정통계량이 음수이므로 after의 값이 더 크다."
   ]
  },
  {
   "cell_type": "code",
   "execution_count": 214,
   "id": "b3fa305c-5cc1-47f6-b23c-9c4c4b962710",
   "metadata": {},
   "outputs": [
    {
     "name": "stdout",
     "output_type": "stream",
     "text": [
      "Paired t -test\n",
      " t-통계량 : [-2.266]\n",
      " p-value : [0.05]\n"
     ]
    }
   ],
   "source": [
    "# Pired t-test 실습\n",
    "\n",
    "# 회사원 10명에 대해 영어점수가 학원가기 전/후에 영어 점수가 짝을 이루고 있다.\n",
    "# 회사원들의 성적은 학원가기 전후에 대해 차이가 있는지 검정하라. (유의수준 a=0.05)\n",
    "\n",
    "df1 = pd.DataFrame({'before':[720,589,780,648,720,589,780,648,780,648],\n",
    "                   })\n",
    "df2 = pd.DataFrame({'after':[710,580,787,712,750,600,782,670,790,680]})\n",
    "\n",
    "# Pared t-test\n",
    "t_result = stats.ttest_rel(df1,df2)\n",
    "\n",
    "# Paired t-test의 t값 p 값 저장\n",
    "t,p = t_result.statistic.round(3),t_result.pvalue.round(3)\n",
    "# Paired t-test 의 t값 p 값 출력\n",
    "print(\"Paired t -test\")\n",
    "print(\" t-통계량 : {}\".format(t))\n",
    "print(\" p-value : {}\".format(p))\n",
    "\n",
    "# p값이 0이므로 회사원들의 성적은 학원가기 전후에 대해 차이가 있다. 귀무가설\n",
    "# 검정통계량이 음수이므로 after의 값이 더 크다."
   ]
  },
  {
   "cell_type": "code",
   "execution_count": null,
   "id": "9d502f13-bddc-4aad-90cd-85d40c95b45e",
   "metadata": {},
   "outputs": [],
   "source": []
  }
 ],
 "metadata": {
  "kernelspec": {
   "display_name": "Python 3 (ipykernel)",
   "language": "python",
   "name": "python3"
  },
  "language_info": {
   "codemirror_mode": {
    "name": "ipython",
    "version": 3
   },
   "file_extension": ".py",
   "mimetype": "text/x-python",
   "name": "python",
   "nbconvert_exporter": "python",
   "pygments_lexer": "ipython3",
   "version": "3.11.7"
  }
 },
 "nbformat": 4,
 "nbformat_minor": 5
}
